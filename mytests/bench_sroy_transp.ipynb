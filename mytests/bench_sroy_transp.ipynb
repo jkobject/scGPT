{
 "cells": [
  {
   "cell_type": "code",
   "execution_count": 1,
   "id": "3b9f42f2",
   "metadata": {
    "execution": {
     "iopub.execute_input": "2024-06-27T16:02:55.933186Z",
     "iopub.status.busy": "2024-06-27T16:02:55.933021Z",
     "iopub.status.idle": "2024-06-27T16:03:12.776996Z",
     "shell.execute_reply": "2024-06-27T16:03:12.776516Z"
    },
    "papermill": {
     "duration": 16.848978,
     "end_time": "2024-06-27T16:03:12.778187",
     "exception": false,
     "start_time": "2024-06-27T16:02:55.929209",
     "status": "completed"
    },
    "tags": []
   },
   "outputs": [
    {
     "name": "stdout",
     "output_type": "stream",
     "text": [
      "💡 connected lamindb: jkobject/scprint\n"
     ]
    },
    {
     "name": "stderr",
     "output_type": "stream",
     "text": [
      "/pasteur/appa/homes/jkalfon/miniconda3/envs/scprint17/lib/python3.10/site-packages/umap/__init__.py:9: ImportWarning: Tensorflow not installed; ParametricUMAP will be unavailable\n",
      "  warn(\n"
     ]
    },
    {
     "name": "stderr",
     "output_type": "stream",
     "text": [
      "2024-06-27 18:03:12,120:INFO - PyTorch version 2.0.0 available.\n"
     ]
    },
    {
     "name": "stderr",
     "output_type": "stream",
     "text": [
      "2024-06-27 18:03:12,122:INFO - JAX version 0.4.28 available.\n"
     ]
    }
   ],
   "source": [
    "from scprint import scPrint\n",
    "from scdataloader import Preprocessor\n",
    "\n",
    "from bengrn import BenGRN, get_sroy_gt, FILEDIR\n",
    "import scanpy as sc\n",
    "\n",
    "from anndata.utils import make_index_unique\n",
    "from bengrn import compute_genie3, get_GT_db\n",
    "from grnndata import utils as grnutils\n",
    "import pandas as pd\n",
    "import numpy as np\n",
    "\n",
    "%load_ext autoreload\n",
    "%autoreload 2 \n",
    "\n",
    "import sys\n",
    "import os\n",
    "\n",
    "sys.path.insert(0, \"../\")\n",
    "from scgpt_helper import prepare_model, prepare_dataset, generate_embedding, generate_grn\n",
    "import scgpt as scg\n",
    "from scgpt.tasks import GeneEmbedding\n",
    "from scgpt.tokenizer.gene_tokenizer import GeneVocab\n",
    "from scgpt.utils import set_seed\n",
    "from scgpt.tokenizer import tokenize_and_pad_batch\n",
    "import torch\n",
    "\n",
    "os.environ[\"KMP_WARNINGS\"] = \"off\""
   ]
  },
  {
   "cell_type": "code",
   "execution_count": 2,
   "id": "538c93cc",
   "metadata": {
    "execution": {
     "iopub.execute_input": "2024-06-27T16:03:12.785618Z",
     "iopub.status.busy": "2024-06-27T16:03:12.785355Z",
     "iopub.status.idle": "2024-06-27T16:03:15.920667Z",
     "shell.execute_reply": "2024-06-27T16:03:15.920151Z"
    },
    "papermill": {
     "duration": 3.140143,
     "end_time": "2024-06-27T16:03:15.921873",
     "exception": false,
     "start_time": "2024-06-27T16:03:12.781730",
     "status": "completed"
    },
    "tags": []
   },
   "outputs": [],
   "source": [
    "genes = torch.load('/pasteur/zeus/projets/p02/ml4ig_hot/Users/jkalfon/scprint_scale/vbd8bavn/checkpoints/epoch=17-step=90000.ckpt')['hyper_parameters']['genes']\n",
    "#../../scPRINT/data/temp/vbd8bavn/epoch=17-step=90000.ckpt\n",
    "preprocessor = Preprocessor(is_symbol=True, force_preprocess=True, skip_validate=True,\n",
    "                            do_postp=False, min_valid_genes_id=5000, min_dataset_size=64)\n",
    "NUM_GENES = 5000\n",
    "MAXCELLS = 1024"
   ]
  },
  {
   "cell_type": "code",
   "execution_count": 3,
   "id": "2543878c",
   "metadata": {
    "execution": {
     "iopub.execute_input": "2024-06-27T16:03:15.929122Z",
     "iopub.status.busy": "2024-06-27T16:03:15.928955Z",
     "iopub.status.idle": "2024-06-27T16:03:22.888525Z",
     "shell.execute_reply": "2024-06-27T16:03:22.887590Z"
    },
    "papermill": {
     "duration": 6.964249,
     "end_time": "2024-06-27T16:03:22.889849",
     "exception": false,
     "start_time": "2024-06-27T16:03:15.925600",
     "status": "completed"
    },
    "tags": []
   },
   "outputs": [
    {
     "name": "stdout",
     "output_type": "stream",
     "text": [
      "Resume model from ../save/scGPT_human/best_model.pt, the model args will override the config ../save/scGPT_human/args.json.\n"
     ]
    }
   ],
   "source": [
    "model, vocab = prepare_model(model_dir=\"../save/scGPT_human\")"
   ]
  },
  {
   "cell_type": "markdown",
   "id": "0c7386e8",
   "metadata": {
    "papermill": {
     "duration": 0.00292,
     "end_time": "2024-06-27T16:03:22.896456",
     "exception": false,
     "start_time": "2024-06-27T16:03:22.893536",
     "status": "completed"
    },
    "tags": []
   },
   "source": [
    "# han / full\n"
   ]
  },
  {
   "cell_type": "code",
   "execution_count": 4,
   "id": "eb23c82e",
   "metadata": {
    "execution": {
     "iopub.execute_input": "2024-06-27T16:03:22.903170Z",
     "iopub.status.busy": "2024-06-27T16:03:22.902853Z",
     "iopub.status.idle": "2024-06-27T16:03:24.815744Z",
     "shell.execute_reply": "2024-06-27T16:03:24.815135Z"
    },
    "papermill": {
     "duration": 1.917523,
     "end_time": "2024-06-27T16:03:24.816905",
     "exception": false,
     "start_time": "2024-06-27T16:03:22.899382",
     "status": "completed"
    },
    "tags": []
   },
   "outputs": [],
   "source": [
    "metrics = {}"
   ]
  },
  {
   "cell_type": "code",
   "execution_count": 5,
   "id": "22d20bed",
   "metadata": {
    "execution": {
     "iopub.execute_input": "2024-06-27T16:03:24.823787Z",
     "iopub.status.busy": "2024-06-27T16:03:24.823495Z",
     "iopub.status.idle": "2024-06-27T16:03:40.226154Z",
     "shell.execute_reply": "2024-06-27T16:03:40.225706Z"
    },
    "papermill": {
     "duration": 15.407217,
     "end_time": "2024-06-27T16:03:40.227215",
     "exception": false,
     "start_time": "2024-06-27T16:03:24.819998",
     "status": "completed"
    },
    "tags": []
   },
   "outputs": [
    {
     "name": "stdout",
     "output_type": "stream",
     "text": [
      "Dropping layers:  KeysView(Layers with keys: )\n",
      "checking raw counts\n"
     ]
    },
    {
     "name": "stdout",
     "output_type": "stream",
     "text": [
      "removed 0 non primary cells, 5520 renamining\n"
     ]
    },
    {
     "name": "stdout",
     "output_type": "stream",
     "text": [
      "filtered out 0 cells, 5520 renamining\n"
     ]
    },
    {
     "name": "stdout",
     "output_type": "stream",
     "text": [
      "Removed 0 genes.\n"
     ]
    },
    {
     "name": "stdout",
     "output_type": "stream",
     "text": [
      "startin QC\n"
     ]
    },
    {
     "name": "stdout",
     "output_type": "stream",
     "text": [
      "Seeing 151 outliers (2.74% of total dataset):\n",
      "done\n"
     ]
    },
    {
     "data": {
      "text/plain": [
       "(GRnnData object with n_obs × n_vars = 5520 × 7465\n",
       "     obs: 'organism_ontology_term_id'\n",
       "     varp: 'GRN'\n",
       "     with a grn of 8463 elements,\n",
       " 31)"
      ]
     },
     "execution_count": 5,
     "metadata": {},
     "output_type": "execute_result"
    }
   ],
   "source": [
    "preadata = get_sroy_gt(get=\"han\", species=\"human\", gt=\"full\")\n",
    "adata = preprocessor(preadata.copy())\n",
    "adata.var[\"isTF\"] = False\n",
    "adata.var.loc[adata.var.symbol.isin(grnutils.TF), \"isTF\"] = True\n",
    "preadata, (preadata.grn.sum(1) != 0).sum()"
   ]
  },
  {
   "cell_type": "code",
   "execution_count": 6,
   "id": "df7486fd",
   "metadata": {
    "execution": {
     "iopub.execute_input": "2024-06-27T16:03:40.235575Z",
     "iopub.status.busy": "2024-06-27T16:03:40.235288Z",
     "iopub.status.idle": "2024-06-27T16:05:11.126927Z",
     "shell.execute_reply": "2024-06-27T16:05:11.126424Z"
    },
    "papermill": {
     "duration": 90.896711,
     "end_time": "2024-06-27T16:05:11.127996",
     "exception": false,
     "start_time": "2024-06-27T16:03:40.231285",
     "status": "completed"
    },
    "tags": []
   },
   "outputs": [
    {
     "name": "stdout",
     "output_type": "stream",
     "text": [
      "scGPT - INFO - Filtering genes by counts ...\n"
     ]
    },
    {
     "name": "stdout",
     "output_type": "stream",
     "text": [
      "scGPT - INFO - Normalizing total counts ...\n"
     ]
    },
    {
     "name": "stdout",
     "output_type": "stream",
     "text": [
      "scGPT - INFO - Log1p transforming ...\n"
     ]
    },
    {
     "name": "stdout",
     "output_type": "stream",
     "text": [
      "scGPT - INFO - Binning data ...\n"
     ]
    },
    {
     "name": "stderr",
     "output_type": "stream",
     "text": [
      "\r",
      "  0%|          | 0/103 [00:00<?, ?it/s]"
     ]
    },
    {
     "name": "stderr",
     "output_type": "stream",
     "text": [
      "\r",
      "  1%|          | 1/103 [00:01<02:12,  1.30s/it]"
     ]
    },
    {
     "name": "stderr",
     "output_type": "stream",
     "text": [
      "\r",
      "  2%|▏         | 2/103 [00:02<01:38,  1.03it/s]"
     ]
    },
    {
     "name": "stderr",
     "output_type": "stream",
     "text": [
      "\r",
      "  3%|▎         | 3/103 [00:02<01:26,  1.15it/s]"
     ]
    },
    {
     "name": "stderr",
     "output_type": "stream",
     "text": [
      "\r",
      "  4%|▍         | 4/103 [00:03<01:20,  1.22it/s]"
     ]
    },
    {
     "name": "stderr",
     "output_type": "stream",
     "text": [
      "\r",
      "  5%|▍         | 5/103 [00:04<01:17,  1.27it/s]"
     ]
    },
    {
     "name": "stderr",
     "output_type": "stream",
     "text": [
      "\r",
      "  6%|▌         | 6/103 [00:05<01:15,  1.29it/s]"
     ]
    },
    {
     "name": "stderr",
     "output_type": "stream",
     "text": [
      "\r",
      "  7%|▋         | 7/103 [00:05<01:13,  1.31it/s]"
     ]
    },
    {
     "name": "stderr",
     "output_type": "stream",
     "text": [
      "\r",
      "  8%|▊         | 8/103 [00:06<01:12,  1.32it/s]"
     ]
    },
    {
     "name": "stderr",
     "output_type": "stream",
     "text": [
      "\r",
      "  9%|▊         | 9/103 [00:07<01:10,  1.33it/s]"
     ]
    },
    {
     "name": "stderr",
     "output_type": "stream",
     "text": [
      "\r",
      " 10%|▉         | 10/103 [00:07<01:09,  1.33it/s]"
     ]
    },
    {
     "name": "stderr",
     "output_type": "stream",
     "text": [
      "\r",
      " 11%|█         | 11/103 [00:08<01:08,  1.34it/s]"
     ]
    },
    {
     "name": "stderr",
     "output_type": "stream",
     "text": [
      "\r",
      " 12%|█▏        | 12/103 [00:09<01:07,  1.34it/s]"
     ]
    },
    {
     "name": "stderr",
     "output_type": "stream",
     "text": [
      "\r",
      " 13%|█▎        | 13/103 [00:10<01:06,  1.34it/s]"
     ]
    },
    {
     "name": "stderr",
     "output_type": "stream",
     "text": [
      "\r",
      " 14%|█▎        | 14/103 [00:10<01:06,  1.35it/s]"
     ]
    },
    {
     "name": "stderr",
     "output_type": "stream",
     "text": [
      "\r",
      " 15%|█▍        | 15/103 [00:11<01:05,  1.35it/s]"
     ]
    },
    {
     "name": "stderr",
     "output_type": "stream",
     "text": [
      "\r",
      " 16%|█▌        | 16/103 [00:12<01:04,  1.35it/s]"
     ]
    },
    {
     "name": "stderr",
     "output_type": "stream",
     "text": [
      "\r",
      " 17%|█▋        | 17/103 [00:13<01:03,  1.35it/s]"
     ]
    },
    {
     "name": "stderr",
     "output_type": "stream",
     "text": [
      "\r",
      " 17%|█▋        | 18/103 [00:13<01:03,  1.35it/s]"
     ]
    },
    {
     "name": "stderr",
     "output_type": "stream",
     "text": [
      "\r",
      " 18%|█▊        | 19/103 [00:14<01:02,  1.35it/s]"
     ]
    },
    {
     "name": "stderr",
     "output_type": "stream",
     "text": [
      "\r",
      " 19%|█▉        | 20/103 [00:15<01:01,  1.35it/s]"
     ]
    },
    {
     "name": "stderr",
     "output_type": "stream",
     "text": [
      "\r",
      " 20%|██        | 21/103 [00:16<01:00,  1.35it/s]"
     ]
    },
    {
     "name": "stderr",
     "output_type": "stream",
     "text": [
      "\r",
      " 21%|██▏       | 22/103 [00:16<01:00,  1.35it/s]"
     ]
    },
    {
     "name": "stderr",
     "output_type": "stream",
     "text": [
      "\r",
      " 22%|██▏       | 23/103 [00:17<00:59,  1.35it/s]"
     ]
    },
    {
     "name": "stderr",
     "output_type": "stream",
     "text": [
      "\r",
      " 23%|██▎       | 24/103 [00:18<01:00,  1.31it/s]"
     ]
    },
    {
     "name": "stderr",
     "output_type": "stream",
     "text": [
      "\r",
      " 24%|██▍       | 25/103 [00:19<01:00,  1.29it/s]"
     ]
    },
    {
     "name": "stderr",
     "output_type": "stream",
     "text": [
      "\r",
      " 25%|██▌       | 26/103 [00:20<01:00,  1.28it/s]"
     ]
    },
    {
     "name": "stderr",
     "output_type": "stream",
     "text": [
      "\r",
      " 26%|██▌       | 27/103 [00:20<00:59,  1.27it/s]"
     ]
    },
    {
     "name": "stderr",
     "output_type": "stream",
     "text": [
      "\r",
      " 27%|██▋       | 28/103 [00:21<00:59,  1.26it/s]"
     ]
    },
    {
     "name": "stderr",
     "output_type": "stream",
     "text": [
      "\r",
      " 28%|██▊       | 29/103 [00:22<00:58,  1.26it/s]"
     ]
    },
    {
     "name": "stderr",
     "output_type": "stream",
     "text": [
      "\r",
      " 29%|██▉       | 30/103 [00:23<00:58,  1.25it/s]"
     ]
    },
    {
     "name": "stderr",
     "output_type": "stream",
     "text": [
      "\r",
      " 30%|███       | 31/103 [00:24<00:57,  1.25it/s]"
     ]
    },
    {
     "name": "stderr",
     "output_type": "stream",
     "text": [
      "\r",
      " 31%|███       | 32/103 [00:24<00:56,  1.25it/s]"
     ]
    },
    {
     "name": "stderr",
     "output_type": "stream",
     "text": [
      "\r",
      " 32%|███▏      | 33/103 [00:25<00:55,  1.25it/s]"
     ]
    },
    {
     "name": "stderr",
     "output_type": "stream",
     "text": [
      "\r",
      " 33%|███▎      | 34/103 [00:26<00:55,  1.25it/s]"
     ]
    },
    {
     "name": "stderr",
     "output_type": "stream",
     "text": [
      "\r",
      " 34%|███▍      | 35/103 [00:27<00:54,  1.25it/s]"
     ]
    },
    {
     "name": "stderr",
     "output_type": "stream",
     "text": [
      "\r",
      " 35%|███▍      | 36/103 [00:28<00:53,  1.25it/s]"
     ]
    },
    {
     "name": "stderr",
     "output_type": "stream",
     "text": [
      "\r",
      " 36%|███▌      | 37/103 [00:28<00:52,  1.25it/s]"
     ]
    },
    {
     "name": "stderr",
     "output_type": "stream",
     "text": [
      "\r",
      " 37%|███▋      | 38/103 [00:29<00:52,  1.24it/s]"
     ]
    },
    {
     "name": "stderr",
     "output_type": "stream",
     "text": [
      "\r",
      " 38%|███▊      | 39/103 [00:30<00:51,  1.24it/s]"
     ]
    },
    {
     "name": "stderr",
     "output_type": "stream",
     "text": [
      "\r",
      " 39%|███▉      | 40/103 [00:31<00:51,  1.23it/s]"
     ]
    },
    {
     "name": "stderr",
     "output_type": "stream",
     "text": [
      "\r",
      " 40%|███▉      | 41/103 [00:32<00:50,  1.23it/s]"
     ]
    },
    {
     "name": "stderr",
     "output_type": "stream",
     "text": [
      "\r",
      " 41%|████      | 42/103 [00:32<00:49,  1.23it/s]"
     ]
    },
    {
     "name": "stderr",
     "output_type": "stream",
     "text": [
      "\r",
      " 42%|████▏     | 43/103 [00:33<00:48,  1.23it/s]"
     ]
    },
    {
     "name": "stderr",
     "output_type": "stream",
     "text": [
      "\r",
      " 43%|████▎     | 44/103 [00:34<00:48,  1.23it/s]"
     ]
    },
    {
     "name": "stderr",
     "output_type": "stream",
     "text": [
      "\r",
      " 44%|████▎     | 45/103 [00:35<00:47,  1.22it/s]"
     ]
    },
    {
     "name": "stderr",
     "output_type": "stream",
     "text": [
      "\r",
      " 45%|████▍     | 46/103 [00:36<00:46,  1.22it/s]"
     ]
    },
    {
     "name": "stderr",
     "output_type": "stream",
     "text": [
      "\r",
      " 46%|████▌     | 47/103 [00:37<00:45,  1.22it/s]"
     ]
    },
    {
     "name": "stderr",
     "output_type": "stream",
     "text": [
      "\r",
      " 47%|████▋     | 48/103 [00:37<00:44,  1.22it/s]"
     ]
    },
    {
     "name": "stderr",
     "output_type": "stream",
     "text": [
      "\r",
      " 48%|████▊     | 49/103 [00:38<00:44,  1.22it/s]"
     ]
    },
    {
     "name": "stderr",
     "output_type": "stream",
     "text": [
      "\r",
      " 49%|████▊     | 50/103 [00:39<00:43,  1.22it/s]"
     ]
    },
    {
     "name": "stderr",
     "output_type": "stream",
     "text": [
      "\r",
      " 50%|████▉     | 51/103 [00:40<00:42,  1.22it/s]"
     ]
    },
    {
     "name": "stderr",
     "output_type": "stream",
     "text": [
      "\r",
      " 50%|█████     | 52/103 [00:41<00:41,  1.22it/s]"
     ]
    },
    {
     "name": "stderr",
     "output_type": "stream",
     "text": [
      "\r",
      " 51%|█████▏    | 53/103 [00:41<00:40,  1.22it/s]"
     ]
    },
    {
     "name": "stderr",
     "output_type": "stream",
     "text": [
      "\r",
      " 52%|█████▏    | 54/103 [00:42<00:39,  1.23it/s]"
     ]
    },
    {
     "name": "stderr",
     "output_type": "stream",
     "text": [
      "\r",
      " 53%|█████▎    | 55/103 [00:43<00:38,  1.24it/s]"
     ]
    },
    {
     "name": "stderr",
     "output_type": "stream",
     "text": [
      "\r",
      " 54%|█████▍    | 56/103 [00:44<00:37,  1.24it/s]"
     ]
    },
    {
     "name": "stderr",
     "output_type": "stream",
     "text": [
      "\r",
      " 55%|█████▌    | 57/103 [00:45<00:36,  1.24it/s]"
     ]
    },
    {
     "name": "stderr",
     "output_type": "stream",
     "text": [
      "\r",
      " 56%|█████▋    | 58/103 [00:45<00:36,  1.25it/s]"
     ]
    },
    {
     "name": "stderr",
     "output_type": "stream",
     "text": [
      "\r",
      " 57%|█████▋    | 59/103 [00:46<00:35,  1.25it/s]"
     ]
    },
    {
     "name": "stderr",
     "output_type": "stream",
     "text": [
      "\r",
      " 58%|█████▊    | 60/103 [00:47<00:34,  1.25it/s]"
     ]
    },
    {
     "name": "stderr",
     "output_type": "stream",
     "text": [
      "\r",
      " 59%|█████▉    | 61/103 [00:48<00:33,  1.25it/s]"
     ]
    },
    {
     "name": "stderr",
     "output_type": "stream",
     "text": [
      "\r",
      " 60%|██████    | 62/103 [00:49<00:32,  1.25it/s]"
     ]
    },
    {
     "name": "stderr",
     "output_type": "stream",
     "text": [
      "\r",
      " 61%|██████    | 63/103 [00:49<00:32,  1.25it/s]"
     ]
    },
    {
     "name": "stderr",
     "output_type": "stream",
     "text": [
      "\r",
      " 62%|██████▏   | 64/103 [00:50<00:31,  1.25it/s]"
     ]
    },
    {
     "name": "stderr",
     "output_type": "stream",
     "text": [
      "\r",
      " 63%|██████▎   | 65/103 [00:51<00:30,  1.25it/s]"
     ]
    },
    {
     "name": "stderr",
     "output_type": "stream",
     "text": [
      "\r",
      " 64%|██████▍   | 66/103 [00:52<00:29,  1.25it/s]"
     ]
    },
    {
     "name": "stderr",
     "output_type": "stream",
     "text": [
      "\r",
      " 65%|██████▌   | 67/103 [00:53<00:28,  1.25it/s]"
     ]
    },
    {
     "name": "stderr",
     "output_type": "stream",
     "text": [
      "\r",
      " 66%|██████▌   | 68/103 [00:53<00:28,  1.25it/s]"
     ]
    },
    {
     "name": "stderr",
     "output_type": "stream",
     "text": [
      "\r",
      " 67%|██████▋   | 69/103 [00:54<00:27,  1.24it/s]"
     ]
    },
    {
     "name": "stderr",
     "output_type": "stream",
     "text": [
      "\r",
      " 68%|██████▊   | 70/103 [00:55<00:26,  1.25it/s]"
     ]
    },
    {
     "name": "stderr",
     "output_type": "stream",
     "text": [
      "\r",
      " 69%|██████▉   | 71/103 [00:56<00:25,  1.24it/s]"
     ]
    },
    {
     "name": "stderr",
     "output_type": "stream",
     "text": [
      "\r",
      " 70%|██████▉   | 72/103 [00:57<00:24,  1.24it/s]"
     ]
    },
    {
     "name": "stderr",
     "output_type": "stream",
     "text": [
      "\r",
      " 71%|███████   | 73/103 [00:57<00:24,  1.24it/s]"
     ]
    },
    {
     "name": "stderr",
     "output_type": "stream",
     "text": [
      "\r",
      " 72%|███████▏  | 74/103 [00:58<00:23,  1.24it/s]"
     ]
    },
    {
     "name": "stderr",
     "output_type": "stream",
     "text": [
      "\r",
      " 73%|███████▎  | 75/103 [00:59<00:22,  1.25it/s]"
     ]
    },
    {
     "name": "stderr",
     "output_type": "stream",
     "text": [
      "\r",
      " 74%|███████▍  | 76/103 [01:00<00:21,  1.25it/s]"
     ]
    },
    {
     "name": "stderr",
     "output_type": "stream",
     "text": [
      "\r",
      " 75%|███████▍  | 77/103 [01:01<00:20,  1.25it/s]"
     ]
    },
    {
     "name": "stderr",
     "output_type": "stream",
     "text": [
      "\r",
      " 76%|███████▌  | 78/103 [01:01<00:20,  1.25it/s]"
     ]
    },
    {
     "name": "stderr",
     "output_type": "stream",
     "text": [
      "\r",
      " 77%|███████▋  | 79/103 [01:02<00:19,  1.25it/s]"
     ]
    },
    {
     "name": "stderr",
     "output_type": "stream",
     "text": [
      "\r",
      " 78%|███████▊  | 80/103 [01:03<00:18,  1.25it/s]"
     ]
    },
    {
     "name": "stderr",
     "output_type": "stream",
     "text": [
      "\r",
      " 79%|███████▊  | 81/103 [01:04<00:17,  1.25it/s]"
     ]
    },
    {
     "name": "stderr",
     "output_type": "stream",
     "text": [
      "\r",
      " 80%|███████▉  | 82/103 [01:05<00:16,  1.25it/s]"
     ]
    },
    {
     "name": "stderr",
     "output_type": "stream",
     "text": [
      "\r",
      " 81%|████████  | 83/103 [01:05<00:15,  1.25it/s]"
     ]
    },
    {
     "name": "stderr",
     "output_type": "stream",
     "text": [
      "\r",
      " 82%|████████▏ | 84/103 [01:06<00:15,  1.25it/s]"
     ]
    },
    {
     "name": "stderr",
     "output_type": "stream",
     "text": [
      "\r",
      " 83%|████████▎ | 85/103 [01:07<00:14,  1.25it/s]"
     ]
    },
    {
     "name": "stderr",
     "output_type": "stream",
     "text": [
      "\r",
      " 83%|████████▎ | 86/103 [01:08<00:13,  1.25it/s]"
     ]
    },
    {
     "name": "stderr",
     "output_type": "stream",
     "text": [
      "\r",
      " 84%|████████▍ | 87/103 [01:09<00:12,  1.25it/s]"
     ]
    },
    {
     "name": "stderr",
     "output_type": "stream",
     "text": [
      "\r",
      " 85%|████████▌ | 88/103 [01:09<00:11,  1.25it/s]"
     ]
    },
    {
     "name": "stderr",
     "output_type": "stream",
     "text": [
      "\r",
      " 86%|████████▋ | 89/103 [01:10<00:11,  1.25it/s]"
     ]
    },
    {
     "name": "stderr",
     "output_type": "stream",
     "text": [
      "\r",
      " 87%|████████▋ | 90/103 [01:11<00:10,  1.25it/s]"
     ]
    },
    {
     "name": "stderr",
     "output_type": "stream",
     "text": [
      "\r",
      " 88%|████████▊ | 91/103 [01:12<00:09,  1.25it/s]"
     ]
    },
    {
     "name": "stderr",
     "output_type": "stream",
     "text": [
      "\r",
      " 89%|████████▉ | 92/103 [01:13<00:08,  1.25it/s]"
     ]
    },
    {
     "name": "stderr",
     "output_type": "stream",
     "text": [
      "\r",
      " 90%|█████████ | 93/103 [01:13<00:07,  1.25it/s]"
     ]
    },
    {
     "name": "stderr",
     "output_type": "stream",
     "text": [
      "\r",
      " 91%|█████████▏| 94/103 [01:14<00:07,  1.25it/s]"
     ]
    },
    {
     "name": "stderr",
     "output_type": "stream",
     "text": [
      "\r",
      " 92%|█████████▏| 95/103 [01:15<00:06,  1.25it/s]"
     ]
    },
    {
     "name": "stderr",
     "output_type": "stream",
     "text": [
      "\r",
      " 93%|█████████▎| 96/103 [01:16<00:05,  1.25it/s]"
     ]
    },
    {
     "name": "stderr",
     "output_type": "stream",
     "text": [
      "\r",
      " 94%|█████████▍| 97/103 [01:17<00:04,  1.25it/s]"
     ]
    },
    {
     "name": "stderr",
     "output_type": "stream",
     "text": [
      "\r",
      " 95%|█████████▌| 98/103 [01:17<00:03,  1.28it/s]"
     ]
    },
    {
     "name": "stderr",
     "output_type": "stream",
     "text": [
      "\r",
      " 96%|█████████▌| 99/103 [01:18<00:03,  1.29it/s]"
     ]
    },
    {
     "name": "stderr",
     "output_type": "stream",
     "text": [
      "\r",
      " 97%|█████████▋| 100/103 [01:19<00:02,  1.29it/s]"
     ]
    },
    {
     "name": "stderr",
     "output_type": "stream",
     "text": [
      "\r",
      " 98%|█████████▊| 101/103 [01:20<00:01,  1.29it/s]"
     ]
    },
    {
     "name": "stderr",
     "output_type": "stream",
     "text": [
      "\r",
      " 99%|█████████▉| 102/103 [01:21<00:00,  1.28it/s]"
     ]
    },
    {
     "name": "stderr",
     "output_type": "stream",
     "text": [
      "\r",
      "100%|██████████| 103/103 [01:21<00:00,  1.53it/s]"
     ]
    },
    {
     "name": "stderr",
     "output_type": "stream",
     "text": [
      "\r",
      "100%|██████████| 103/103 [01:21<00:00,  1.27it/s]"
     ]
    },
    {
     "name": "stderr",
     "output_type": "stream",
     "text": [
      "\n"
     ]
    },
    {
     "name": "stdout",
     "output_type": "stream",
     "text": [
      "precision:  0.02740789449650209 \n",
      "recall:  1.0 \n",
      "random precision: 0.02741340251388483\n"
     ]
    },
    {
     "name": "stderr",
     "output_type": "stream",
     "text": [
      "\r",
      "  0%|          | 0/128 [00:00<?, ?it/s]"
     ]
    },
    {
     "name": "stderr",
     "output_type": "stream",
     "text": [
      "/pasteur/appa/homes/jkalfon/benGRN/bengrn/base.py:747: RuntimeWarning: invalid value encountered in scalar divide\n",
      "  precision = (grn[true] > threshold).sum() / (grn > threshold).sum()\n",
      "\r",
      "100%|██████████| 128/128 [00:00<00:00, 3711.23it/s]"
     ]
    },
    {
     "name": "stdout",
     "output_type": "stream",
     "text": [
      "Area Under Precision-Recall Curve (AUPRC):  0.021813575802196367\n",
      "EPR: 0.38773864164747424\n"
     ]
    },
    {
     "name": "stderr",
     "output_type": "stream",
     "text": [
      "\n"
     ]
    },
    {
     "data": {
      "image/png": "[encoded data removed]",
      "text/plain": [
       "<Figure size 1000x800 with 1 Axes>"
      ]
     },
     "metadata": {},
     "output_type": "display_data"
    }
   ],
   "source": [
    "sc.pp.highly_variable_genes(\n",
    "    adata, flavor=\"seurat_v3\", n_top_genes=NUM_GENES)\n",
    "adata.var['ensembl_id'] = adata.var.index\n",
    "subadata = adata[:MAXCELLS, adata.var.index.isin(\n",
    "    genes) & adata.var.highly_variable]\n",
    "subadata.var = subadata.var.set_index(\"symbol\")\n",
    "grn = generate_grn(model, vocab, subadata, batch_size = 10, num_attn_layers = 11)\n",
    "grn.var.index.name=\"\"\n",
    "grn.var['symbol'] = grn.var.index\n",
    "grn.varp['GRN'] = grn.varp['GRN'].T\n",
    "metrics['scGPT_han'] = BenGRN(grn, do_auc=True, doplot=True).compare_to(other=preadata)"
   ]
  },
  {
   "cell_type": "code",
   "execution_count": 7,
   "id": "c30cedd6",
   "metadata": {
    "execution": {
     "iopub.execute_input": "2024-06-27T16:05:11.149437Z",
     "iopub.status.busy": "2024-06-27T16:05:11.149159Z",
     "iopub.status.idle": "2024-06-27T16:05:41.877214Z",
     "shell.execute_reply": "2024-06-27T16:05:41.876708Z"
    },
    "papermill": {
     "duration": 30.740299,
     "end_time": "2024-06-27T16:05:41.878269",
     "exception": false,
     "start_time": "2024-06-27T16:05:11.137970",
     "status": "completed"
    },
    "tags": []
   },
   "outputs": [
    {
     "name": "stdout",
     "output_type": "stream",
     "text": [
      "precision:  0.2536840196611731 \n",
      "recall:  1.0 \n",
      "random precision: 0.2537350011763783\n"
     ]
    },
    {
     "name": "stderr",
     "output_type": "stream",
     "text": [
      "\r",
      "  0%|          | 0/128 [00:00<?, ?it/s]"
     ]
    },
    {
     "name": "stderr",
     "output_type": "stream",
     "text": [
      "\r",
      " 48%|████▊     | 62/128 [00:00<00:00, 615.11it/s]"
     ]
    },
    {
     "name": "stderr",
     "output_type": "stream",
     "text": [
      "\r",
      " 97%|█████████▋| 124/128 [00:00<00:00, 615.82it/s]"
     ]
    },
    {
     "name": "stderr",
     "output_type": "stream",
     "text": [
      "/pasteur/appa/homes/jkalfon/benGRN/bengrn/base.py:747: RuntimeWarning: invalid value encountered in scalar divide\n",
      "  precision = (grn[true] > threshold).sum() / (grn > threshold).sum()\n",
      "\r",
      "100%|██████████| 128/128 [00:00<00:00, 613.18it/s]"
     ]
    },
    {
     "name": "stderr",
     "output_type": "stream",
     "text": [
      "\n"
     ]
    },
    {
     "name": "stdout",
     "output_type": "stream",
     "text": [
      "Area Under Precision-Recall Curve (AUPRC):  0.2443648512761225\n",
      "EPR: 1.2505614440961927\n"
     ]
    },
    {
     "data": {
      "image/png": "[encoded data removed]",
      "text/plain": [
       "<Figure size 1000x800 with 1 Axes>"
      ]
     },
     "metadata": {},
     "output_type": "display_data"
    }
   ],
   "source": [
    "preadata = get_sroy_gt(get=\"han\", species=\"human\", gt=\"chip\")\n",
    "metrics['scGPT_han_chip'] = BenGRN(grn, do_auc=True, doplot=True).compare_to(other=preadata)"
   ]
  },
  {
   "cell_type": "code",
   "execution_count": 8,
   "id": "ca5773ad",
   "metadata": {
    "execution": {
     "iopub.execute_input": "2024-06-27T16:05:41.930524Z",
     "iopub.status.busy": "2024-06-27T16:05:41.930215Z",
     "iopub.status.idle": "2024-06-27T16:06:02.383430Z",
     "shell.execute_reply": "2024-06-27T16:06:02.382984Z"
    },
    "papermill": {
     "duration": 20.464705,
     "end_time": "2024-06-27T16:06:02.384478",
     "exception": false,
     "start_time": "2024-06-27T16:05:41.919773",
     "status": "completed"
    },
    "tags": []
   },
   "outputs": [
    {
     "name": "stdout",
     "output_type": "stream",
     "text": [
      "precision:  0.07659519504004134 \n",
      "recall:  1.0 \n",
      "random precision: 0.07661058796508957\n"
     ]
    },
    {
     "name": "stderr",
     "output_type": "stream",
     "text": [
      "\r",
      "  0%|          | 0/128 [00:00<?, ?it/s]"
     ]
    },
    {
     "name": "stderr",
     "output_type": "stream",
     "text": [
      "\r",
      " 37%|███▋      | 47/128 [00:00<00:00, 463.66it/s]"
     ]
    },
    {
     "name": "stderr",
     "output_type": "stream",
     "text": [
      "\r",
      " 73%|███████▎  | 94/128 [00:00<00:00, 464.45it/s]"
     ]
    },
    {
     "name": "stderr",
     "output_type": "stream",
     "text": [
      "/pasteur/appa/homes/jkalfon/benGRN/bengrn/base.py:747: RuntimeWarning: invalid value encountered in scalar divide\n",
      "  precision = (grn[true] > threshold).sum() / (grn > threshold).sum()\n",
      "\r",
      "100%|██████████| 128/128 [00:00<00:00, 464.05it/s]"
     ]
    },
    {
     "name": "stderr",
     "output_type": "stream",
     "text": [
      "\n"
     ]
    },
    {
     "name": "stdout",
     "output_type": "stream",
     "text": [
      "Area Under Precision-Recall Curve (AUPRC):  0.06264502327552278\n",
      "EPR: 0.20287663002542908\n"
     ]
    },
    {
     "data": {
      "image/png": "[encoded data removed]",
      "text/plain": [
       "<Figure size 1000x800 with 1 Axes>"
      ]
     },
     "metadata": {},
     "output_type": "display_data"
    }
   ],
   "source": [
    "preadata = get_sroy_gt(get=\"han\", species=\"human\", gt=\"ko\")\n",
    "metrics['scGPT_han_ko'] = BenGRN(grn, do_auc=True, doplot=True).compare_to(other=preadata)"
   ]
  },
  {
   "cell_type": "markdown",
   "id": "f89a5f26",
   "metadata": {
    "papermill": {
     "duration": 0.010358,
     "end_time": "2024-06-27T16:06:02.406504",
     "exception": false,
     "start_time": "2024-06-27T16:06:02.396146",
     "status": "completed"
    },
    "tags": []
   },
   "source": [
    "## trial with my own ESC"
   ]
  },
  {
   "cell_type": "code",
   "execution_count": 9,
   "id": "70742944",
   "metadata": {
    "execution": {
     "iopub.execute_input": "2024-06-27T16:06:02.431628Z",
     "iopub.status.busy": "2024-06-27T16:06:02.430982Z",
     "iopub.status.idle": "2024-06-27T16:06:16.539440Z",
     "shell.execute_reply": "2024-06-27T16:06:16.538771Z"
    },
    "papermill": {
     "duration": 14.121215,
     "end_time": "2024-06-27T16:06:16.540608",
     "exception": false,
     "start_time": "2024-06-27T16:06:02.419393",
     "status": "completed"
    },
    "tags": []
   },
   "outputs": [
    {
     "name": "stdout",
     "output_type": "stream",
     "text": [
      "Dropping layers:  KeysView(Layers with keys: )\n",
      "checking raw counts\n"
     ]
    },
    {
     "name": "stdout",
     "output_type": "stream",
     "text": [
      "Data is not raw counts, please check layers, find raw data, or bypass with force_preprocess\n",
      "removed 0 non primary cells, 115 renamining\n"
     ]
    },
    {
     "name": "stdout",
     "output_type": "stream",
     "text": [
      "filtered out 0 cells, 115 renamining\n",
      "Removed 0 genes.\n"
     ]
    },
    {
     "name": "stdout",
     "output_type": "stream",
     "text": [
      "startin QC\n",
      "Seeing 105 outliers (91.30% of total dataset):\n"
     ]
    },
    {
     "name": "stdout",
     "output_type": "stream",
     "text": [
      "done\n"
     ]
    },
    {
     "data": {
      "text/plain": [
       "(GRnnData object with n_obs × n_vars = 115 × 28466\n",
       "     obs: 'organism_ontology_term_id'\n",
       "     var: 'ensembl_id'\n",
       "     varp: 'GRN'\n",
       "     with a grn of 11563 elements,\n",
       " 35)"
      ]
     },
     "execution_count": 9,
     "metadata": {},
     "output_type": "execute_result"
    }
   ],
   "source": [
    "preadata = get_sroy_gt(get=\"mine\", species=\"human\", gt=\"full\")\n",
    "adata = preprocessor(preadata.copy())\n",
    "adata.var[\"isTF\"] = False\n",
    "adata.var.loc[adata.var.symbol.isin(grnutils.TF), \"isTF\"] = True\n",
    "preadata, (preadata.grn.sum(1) != 0).sum()"
   ]
  },
  {
   "cell_type": "code",
   "execution_count": 10,
   "id": "6fd9666a",
   "metadata": {
    "execution": {
     "iopub.execute_input": "2024-06-27T16:06:16.564510Z",
     "iopub.status.busy": "2024-06-27T16:06:16.564330Z",
     "iopub.status.idle": "2024-06-27T16:06:26.784568Z",
     "shell.execute_reply": "2024-06-27T16:06:26.783921Z"
    },
    "papermill": {
     "duration": 10.232972,
     "end_time": "2024-06-27T16:06:26.785674",
     "exception": false,
     "start_time": "2024-06-27T16:06:16.552702",
     "status": "completed"
    },
    "tags": []
   },
   "outputs": [
    {
     "name": "stdout",
     "output_type": "stream",
     "text": [
      "scGPT - INFO - Filtering genes by counts ...\n"
     ]
    },
    {
     "name": "stdout",
     "output_type": "stream",
     "text": [
      "scGPT - INFO - Normalizing total counts ...\n"
     ]
    },
    {
     "name": "stdout",
     "output_type": "stream",
     "text": [
      "scGPT - INFO - Log1p transforming ...\n"
     ]
    },
    {
     "name": "stdout",
     "output_type": "stream",
     "text": [
      "scGPT - INFO - Binning data ...\n"
     ]
    },
    {
     "name": "stderr",
     "output_type": "stream",
     "text": [
      "\r",
      "  0%|          | 0/12 [00:00<?, ?it/s]"
     ]
    },
    {
     "name": "stderr",
     "output_type": "stream",
     "text": [
      "\r",
      "  8%|▊         | 1/12 [00:00<00:06,  1.82it/s]"
     ]
    },
    {
     "name": "stderr",
     "output_type": "stream",
     "text": [
      "\r",
      " 17%|█▋        | 2/12 [00:01<00:05,  1.86it/s]"
     ]
    },
    {
     "name": "stderr",
     "output_type": "stream",
     "text": [
      "\r",
      " 25%|██▌       | 3/12 [00:01<00:04,  1.87it/s]"
     ]
    },
    {
     "name": "stderr",
     "output_type": "stream",
     "text": [
      "\r",
      " 33%|███▎      | 4/12 [00:02<00:04,  1.88it/s]"
     ]
    },
    {
     "name": "stderr",
     "output_type": "stream",
     "text": [
      "\r",
      " 42%|████▏     | 5/12 [00:02<00:03,  1.88it/s]"
     ]
    },
    {
     "name": "stderr",
     "output_type": "stream",
     "text": [
      "\r",
      " 50%|█████     | 6/12 [00:03<00:03,  1.88it/s]"
     ]
    },
    {
     "name": "stderr",
     "output_type": "stream",
     "text": [
      "\r",
      " 58%|█████▊    | 7/12 [00:03<00:02,  1.88it/s]"
     ]
    },
    {
     "name": "stderr",
     "output_type": "stream",
     "text": [
      "\r",
      " 67%|██████▋   | 8/12 [00:04<00:02,  1.88it/s]"
     ]
    },
    {
     "name": "stderr",
     "output_type": "stream",
     "text": [
      "\r",
      " 75%|███████▌  | 9/12 [00:04<00:01,  1.88it/s]"
     ]
    },
    {
     "name": "stderr",
     "output_type": "stream",
     "text": [
      "\r",
      " 83%|████████▎ | 10/12 [00:05<00:01,  1.88it/s]"
     ]
    },
    {
     "name": "stderr",
     "output_type": "stream",
     "text": [
      "\r",
      " 92%|█████████▏| 11/12 [00:05<00:00,  1.88it/s]"
     ]
    },
    {
     "name": "stderr",
     "output_type": "stream",
     "text": [
      "\r",
      "100%|██████████| 12/12 [00:06<00:00,  2.20it/s]"
     ]
    },
    {
     "name": "stderr",
     "output_type": "stream",
     "text": [
      "\r",
      "100%|██████████| 12/12 [00:06<00:00,  1.95it/s]"
     ]
    },
    {
     "name": "stderr",
     "output_type": "stream",
     "text": [
      "\n"
     ]
    },
    {
     "name": "stdout",
     "output_type": "stream",
     "text": [
      "precision:  0.03212866322475207 \n",
      "recall:  1.0 \n",
      "random precision: 0.03213622291021672\n"
     ]
    },
    {
     "name": "stderr",
     "output_type": "stream",
     "text": [
      "\r",
      "  0%|          | 0/128 [00:00<?, ?it/s]"
     ]
    },
    {
     "name": "stderr",
     "output_type": "stream",
     "text": [
      "/pasteur/appa/homes/jkalfon/benGRN/bengrn/base.py:747: RuntimeWarning: invalid value encountered in scalar divide\n",
      "  precision = (grn[true] > threshold).sum() / (grn > threshold).sum()\n",
      "\r",
      "100%|██████████| 128/128 [00:00<00:00, 4931.71it/s]"
     ]
    },
    {
     "name": "stdout",
     "output_type": "stream",
     "text": [
      "Area Under Precision-Recall Curve (AUPRC):  0.02439361650284492\n",
      "EPR: 0.01122943106355988\n"
     ]
    },
    {
     "name": "stderr",
     "output_type": "stream",
     "text": [
      "\n"
     ]
    },
    {
     "data": {
      "image/png": "[encoded data removed]",
      "text/plain": [
       "<Figure size 1000x800 with 1 Axes>"
      ]
     },
     "metadata": {},
     "output_type": "display_data"
    }
   ],
   "source": [
    "sc.pp.highly_variable_genes(\n",
    "    adata, flavor=\"seurat_v3\", n_top_genes=NUM_GENES)\n",
    "adata.var['ensembl_id'] = adata.var.index\n",
    "subadata = adata[:MAXCELLS, adata.var.index.isin(\n",
    "    genes) & adata.var.highly_variable]\n",
    "subadata.var = subadata.var.set_index(\"symbol\")\n",
    "grn = generate_grn(model, vocab, subadata, batch_size = 10, num_attn_layers = 11)\n",
    "grn.var.index.name=\"\"\n",
    "grn.var['symbol'] = grn.var.index\n",
    "grn.varp['GRN'] = grn.varp['GRN'].T\n",
    "metrics['scGPT_mine'] = BenGRN(grn, do_auc=True, doplot=True).compare_to(other=preadata)"
   ]
  },
  {
   "cell_type": "code",
   "execution_count": 11,
   "id": "9f6725ee",
   "metadata": {
    "execution": {
     "iopub.execute_input": "2024-06-27T16:06:26.813728Z",
     "iopub.status.busy": "2024-06-27T16:06:26.813439Z",
     "iopub.status.idle": "2024-06-27T16:06:28.791820Z",
     "shell.execute_reply": "2024-06-27T16:06:28.791273Z"
    },
    "papermill": {
     "duration": 1.99341,
     "end_time": "2024-06-27T16:06:28.792867",
     "exception": false,
     "start_time": "2024-06-27T16:06:26.799457",
     "status": "completed"
    },
    "tags": []
   },
   "outputs": [
    {
     "data": {
      "text/plain": [
       "{'scGPT_han': {'precision': 0.02740789449650209,\n",
       "  'recall': 1.0,\n",
       "  'rand_precision': 0.02741340251388483,\n",
       "  'auprc': 0.021813575802196367,\n",
       "  'epr': 0.38773864164747424},\n",
       " 'scGPT_han_chip': {'precision': 0.2536840196611731,\n",
       "  'recall': 1.0,\n",
       "  'rand_precision': 0.2537350011763783,\n",
       "  'auprc': 0.2443648512761225,\n",
       "  'epr': 1.2505614440961927},\n",
       " 'scGPT_han_ko': {'precision': 0.07659519504004134,\n",
       "  'recall': 1.0,\n",
       "  'rand_precision': 0.07661058796508957,\n",
       "  'auprc': 0.06264502327552278,\n",
       "  'epr': 0.20287663002542908},\n",
       " 'scGPT_mine': {'precision': 0.03212866322475207,\n",
       "  'recall': 1.0,\n",
       "  'rand_precision': 0.03213622291021672,\n",
       "  'auprc': 0.02439361650284492,\n",
       "  'epr': 0.01122943106355988}}"
      ]
     },
     "execution_count": 11,
     "metadata": {},
     "output_type": "execute_result"
    }
   ],
   "source": [
    "metrics"
   ]
  },
  {
   "cell_type": "code",
   "execution_count": 12,
   "id": "188f7fa3",
   "metadata": {
    "execution": {
     "iopub.execute_input": "2024-06-27T16:06:28.821761Z",
     "iopub.status.busy": "2024-06-27T16:06:28.821470Z",
     "iopub.status.idle": "2024-06-27T16:06:30.738575Z",
     "shell.execute_reply": "2024-06-27T16:06:30.738044Z"
    },
    "papermill": {
     "duration": 1.932851,
     "end_time": "2024-06-27T16:06:30.739604",
     "exception": false,
     "start_time": "2024-06-27T16:06:28.806753",
     "status": "completed"
    },
    "tags": []
   },
   "outputs": [
    {
     "data": {
      "text/html": [
       "<div>\n",
       "<style scoped>\n",
       "    .dataframe tbody tr th:only-of-type {\n",
       "        vertical-align: middle;\n",
       "    }\n",
       "\n",
       "    .dataframe tbody tr th {\n",
       "        vertical-align: top;\n",
       "    }\n",
       "\n",
       "    .dataframe thead th {\n",
       "        text-align: right;\n",
       "    }\n",
       "</style>\n",
       "<table border=\"1\" class=\"dataframe\">\n",
       "  <thead>\n",
       "    <tr style=\"text-align: right;\">\n",
       "      <th></th>\n",
       "      <th>name</th>\n",
       "      <th>EPR</th>\n",
       "      <th>AUPRC</th>\n",
       "      <th>RAND</th>\n",
       "      <th>TF_only</th>\n",
       "    </tr>\n",
       "  </thead>\n",
       "  <tbody>\n",
       "    <tr>\n",
       "      <th>0</th>\n",
       "      <td>han</td>\n",
       "      <td>0.387739</td>\n",
       "      <td>0.021814</td>\n",
       "      <td>0.027413</td>\n",
       "      <td>False</td>\n",
       "    </tr>\n",
       "    <tr>\n",
       "      <th>1</th>\n",
       "      <td>han_chip</td>\n",
       "      <td>1.250561</td>\n",
       "      <td>0.244365</td>\n",
       "      <td>0.253735</td>\n",
       "      <td>False</td>\n",
       "    </tr>\n",
       "    <tr>\n",
       "      <th>2</th>\n",
       "      <td>han_ko</td>\n",
       "      <td>0.202877</td>\n",
       "      <td>0.062645</td>\n",
       "      <td>0.076611</td>\n",
       "      <td>False</td>\n",
       "    </tr>\n",
       "    <tr>\n",
       "      <th>3</th>\n",
       "      <td>mine</td>\n",
       "      <td>0.011229</td>\n",
       "      <td>0.024394</td>\n",
       "      <td>0.032136</td>\n",
       "      <td>False</td>\n",
       "    </tr>\n",
       "  </tbody>\n",
       "</table>\n",
       "</div>"
      ],
      "text/plain": [
       "       name       EPR     AUPRC      RAND  TF_only\n",
       "0       han  0.387739  0.021814  0.027413    False\n",
       "1  han_chip  1.250561  0.244365  0.253735    False\n",
       "2    han_ko  0.202877  0.062645  0.076611    False\n",
       "3      mine  0.011229  0.024394  0.032136    False"
      ]
     },
     "execution_count": 12,
     "metadata": {},
     "output_type": "execute_result"
    }
   ],
   "source": [
    "res = []\n",
    "res2 = []\n",
    "for k, v in metrics.items():\n",
    "    if k.split('_')[-1] == \"base\":\n",
    "        res2.append([k.split('_')[-2], v['epr'], v['auprc'], v['rand_precision'], v['significant_enriched_TFtargets'], v.get('TF_enr', False), 'tf_' in k])\n",
    "    elif k.split('_')[-1] == \"ko\":\n",
    "        res.append([k.split('_')[-2]+\"_ko\", v['epr'], v['auprc'], v['rand_precision'], 'tf_' in k])\n",
    "    elif k.split('_')[-1] == \"chip\":\n",
    "        res.append([k.split('_')[-2]+\"_chip\", v['epr'], v['auprc'], v['rand_precision'], 'tf_' in k])\n",
    "    else:\n",
    "        res.append([k.split('_')[-1], v['epr'], v['auprc'], v['rand_precision'], 'tf_' in k])\n",
    "\n",
    "df = pd.DataFrame(res, columns=['name','EPR', 'AUPRC', 'RAND', 'TF_only'])\n",
    "df2 = pd.DataFrame(res2, columns=['name','EPR', 'AUPRC', 'RAND', 'TF_targ', 'TF_enr', 'TF_only'])\n",
    "df"
   ]
  },
  {
   "cell_type": "code",
   "execution_count": 13,
   "id": "e5736ea7",
   "metadata": {
    "execution": {
     "iopub.execute_input": "2024-06-27T16:06:30.768436Z",
     "iopub.status.busy": "2024-06-27T16:06:30.767941Z",
     "iopub.status.idle": "2024-06-27T16:06:32.720399Z",
     "shell.execute_reply": "2024-06-27T16:06:32.719863Z"
    },
    "papermill": {
     "duration": 1.967759,
     "end_time": "2024-06-27T16:06:32.721453",
     "exception": false,
     "start_time": "2024-06-27T16:06:30.753694",
     "status": "completed"
    },
    "tags": []
   },
   "outputs": [
    {
     "data": {
      "text/html": [
       "<div>\n",
       "<style scoped>\n",
       "    .dataframe tbody tr th:only-of-type {\n",
       "        vertical-align: middle;\n",
       "    }\n",
       "\n",
       "    .dataframe tbody tr th {\n",
       "        vertical-align: top;\n",
       "    }\n",
       "\n",
       "    .dataframe thead th {\n",
       "        text-align: right;\n",
       "    }\n",
       "</style>\n",
       "<table border=\"1\" class=\"dataframe\">\n",
       "  <thead>\n",
       "    <tr style=\"text-align: right;\">\n",
       "      <th></th>\n",
       "      <th>name</th>\n",
       "      <th>EPR</th>\n",
       "      <th>AUPRC</th>\n",
       "      <th>RAND</th>\n",
       "      <th>TF_targ</th>\n",
       "      <th>TF_enr</th>\n",
       "      <th>TF_only</th>\n",
       "    </tr>\n",
       "  </thead>\n",
       "  <tbody>\n",
       "  </tbody>\n",
       "</table>\n",
       "</div>"
      ],
      "text/plain": [
       "Empty DataFrame\n",
       "Columns: [name, EPR, AUPRC, RAND, TF_targ, TF_enr, TF_only]\n",
       "Index: []"
      ]
     },
     "execution_count": 13,
     "metadata": {},
     "output_type": "execute_result"
    }
   ],
   "source": [
    "df2"
   ]
  }
 ],
 "metadata": {
  "kernelspec": {
   "display_name": "scprint",
   "language": "python",
   "name": "python3"
  },
  "language_info": {
   "codemirror_mode": {
    "name": "ipython",
    "version": 3
   },
   "file_extension": ".py",
   "mimetype": "text/x-python",
   "name": "python",
   "nbconvert_exporter": "python",
   "pygments_lexer": "ipython3",
   "version": "3.10.0"
  },
  "papermill": {
   "default_parameters": {},
   "duration": 221.550849,
   "end_time": "2024-06-27T16:06:36.176541",
   "environment_variables": {},
   "exception": null,
   "input_path": "bench_sroy_transp.ipynb",
   "output_path": "bench_sroy_transp.ipynb",
   "parameters": {},
   "start_time": "2024-06-27T16:02:54.625692",
   "version": "2.6.0"
  }
 },
 "nbformat": 4,
 "nbformat_minor": 5
}