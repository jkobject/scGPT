{
 "cells": [
  {
   "attachments": {},
   "cell_type": "markdown",
   "metadata": {},
   "source": [
    "# getting the hESC datasets"
   ]
  },
  {
   "cell_type": "code",
   "execution_count": 3,
   "metadata": {},
   "outputs": [
    {
     "name": "stdout",
     "output_type": "stream",
     "text": [
      "--2023-10-16 14:19:44--  https://ftp.ncbi.nlm.nih.gov/geo/series/GSE126nnn/GSE126074/suppl/GSE126074%5FCellLineMixture%5FSNAREseq%5FcDNA%5Fcounts.tsv.gz\n",
      "Resolving ftp.ncbi.nlm.nih.gov (ftp.ncbi.nlm.nih.gov)... 165.112.9.228, 130.14.250.13\n",
      "Connecting to ftp.ncbi.nlm.nih.gov (ftp.ncbi.nlm.nih.gov)|165.112.9.228|:443... connected.\n",
      "HTTP request sent, awaiting response... 200 OK\n",
      "Length: 938942 (917K) [application/x-gzip]\n",
      "Saving to: ‘GSE126074_CellLineMixture_SNAREseq_cDNA_counts.tsv.gz’\n",
      "\n",
      "GSE126074_CellLineM 100%[===================>] 916,94K  2,03MB/s    in 0,4s    \n",
      "\n",
      "2023-10-16 14:19:45 (2,03 MB/s) - ‘GSE126074_CellLineMixture_SNAREseq_cDNA_counts.tsv.gz’ saved [938942/938942]\n",
      "\n",
      "--2023-10-16 14:19:45--  http://./\n",
      "Resolving . (.)... failed: nodename nor servname provided, or not known.\n",
      "wget: unable to resolve host address ‘.’\n",
      "FINISHED --2023-10-16 14:19:45--\n",
      "Total wall clock time: 1,0s\n",
      "Downloaded: 1 files, 917K in 0,4s (2,03 MB/s)\n"
     ]
    }
   ],
   "source": [
    "! wget https://ftp.ncbi.nlm.nih.gov/geo/series/GSE126nnn/GSE126074/suppl/GSE126074%5FCellLineMixture%5FSNAREseq%5FcDNA%5Fcounts.tsv.gz ."
   ]
  },
  {
   "cell_type": "code",
   "execution_count": 6,
   "metadata": {},
   "outputs": [],
   "source": [
    "import pandas as pd"
   ]
  },
  {
   "cell_type": "code",
   "execution_count": 8,
   "metadata": {},
   "outputs": [],
   "source": [
    "data = pd.read_csv('GSE126074_CellLineMixture_SNAREseq_cDNA_counts.tsv.gz', sep='\\t')"
   ]
  },
  {
   "cell_type": "code",
   "execution_count": 13,
   "metadata": {},
   "outputs": [
    {
     "data": {
      "text/plain": [
       "A1BG-AS1          7\n",
       "A2M             204\n",
       "A2M-AS1           1\n",
       "A2ML1             1\n",
       "A2ML1-AS1         9\n",
       "               ... \n",
       "ZZZ3             20\n",
       "bP-21201H5.1      1\n",
       "bP-21264C1.2      1\n",
       "bP-2189O9.2      23\n",
       "bP-2189O9.3       1\n",
       "Length: 18666, dtype: int64"
      ]
     },
     "execution_count": 13,
     "metadata": {},
     "output_type": "execute_result"
    }
   ],
   "source": [
    "data.sum(1)"
   ]
  }
 ],
 "metadata": {
  "kernelspec": {
   "display_name": "geneformer",
   "language": "python",
   "name": "python3"
  },
  "language_info": {
   "codemirror_mode": {
    "name": "ipython",
    "version": 3
   },
   "file_extension": ".py",
   "mimetype": "text/x-python",
   "name": "python",
   "nbconvert_exporter": "python",
   "pygments_lexer": "ipython3",
   "version": "3.10.0"
  },
  "orig_nbformat": 4
 },
 "nbformat": 4,
 "nbformat_minor": 2
}
