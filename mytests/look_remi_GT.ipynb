{
 "cells": [
  {
   "cell_type": "code",
   "execution_count": 5,
   "metadata": {},
   "outputs": [],
   "source": [
    "import pandas as pd"
   ]
  },
  {
   "attachments": {},
   "cell_type": "markdown",
   "metadata": {},
   "source": [
    "## comparing chip"
   ]
  },
  {
   "cell_type": "code",
   "execution_count": 6,
   "metadata": {},
   "outputs": [],
   "source": [
    "a_chip = pd.read_csv('../../GroundTruth/remisdata/gold_standards input/hESC/hESC_encodechip.txt', sep='\\t', header=None)"
   ]
  },
  {
   "cell_type": "code",
   "execution_count": 37,
   "metadata": {},
   "outputs": [
    {
     "data": {
      "text/plain": [
       "(58, 44933, 690580)"
      ]
     },
     "execution_count": 37,
     "metadata": {},
     "output_type": "execute_result"
    }
   ],
   "source": [
    "len(set(a_chip[0])), len(set(a_chip[1])), len(a_chip)"
   ]
  },
  {
   "cell_type": "code",
   "execution_count": 7,
   "metadata": {},
   "outputs": [],
   "source": [
    "b_chip = pd.read_csv('../../GroundTruth/remisdata/gold_standards input/hESC/hESC_escapechip.txt', sep='\\t', header=None)"
   ]
  },
  {
   "cell_type": "code",
   "execution_count": 39,
   "metadata": {},
   "outputs": [
    {
     "data": {
      "text/plain": [
       "(47, 19595, 107255)"
      ]
     },
     "execution_count": 39,
     "metadata": {},
     "output_type": "execute_result"
    }
   ],
   "source": [
    "len(set(b_chip[0])), len(set(b_chip[1])), len(b_chip)"
   ]
  },
  {
   "cell_type": "code",
   "execution_count": 41,
   "metadata": {},
   "outputs": [
    {
     "data": {
      "text/plain": [
       "(13, 14167)"
      ]
     },
     "execution_count": 41,
     "metadata": {},
     "output_type": "execute_result"
    }
   ],
   "source": [
    "len(set(b_chip[0]) & set(a_chip[0])), len(set(b_chip[1]) & set(a_chip[1]))"
   ]
  },
  {
   "cell_type": "code",
   "execution_count": 42,
   "metadata": {},
   "outputs": [],
   "source": [
    "a_chip['link']=a_chip[0]+'_'+a_chip[1]\n",
    "b_chip['link']=b_chip[0]+'_'+b_chip[1]"
   ]
  },
  {
   "cell_type": "code",
   "execution_count": 2,
   "metadata": {},
   "outputs": [],
   "source": [
    "from matplotlib_venn import venn2, venn3\n",
    "import matplotlib.pyplot as plt"
   ]
  },
  {
   "cell_type": "code",
   "execution_count": 43,
   "metadata": {},
   "outputs": [
    {
     "data": {
      "image/png": "[encoded data removed]",
      "text/plain": [
       "<Figure size 640x480 with 1 Axes>"
      ]
     },
     "metadata": {},
     "output_type": "display_data"
    }
   ],
   "source": [
    "\n",
    "\n",
    "set1 = set(a_chip[a_chip[0].isin(set(b_chip[0]) & set(a_chip[0]))].link)\n",
    "#set2 = set(a_chip[a_chip['link'].isin(b_chip['link'])].link)\n",
    "set2 = set(b_chip[b_chip[0].isin(set(b_chip[0]) & set(a_chip[0]))].link)\n",
    "venn2([set1, set2], ('set1', 'set2'))\n",
    "plt.show()\n"
   ]
  },
  {
   "attachments": {},
   "cell_type": "markdown",
   "metadata": {},
   "source": [
    "## comparing perturb"
   ]
  },
  {
   "cell_type": "code",
   "execution_count": 8,
   "metadata": {},
   "outputs": [
    {
     "data": {
      "text/html": [
       "<div>\n",
       "<style scoped>\n",
       "    .dataframe tbody tr th:only-of-type {\n",
       "        vertical-align: middle;\n",
       "    }\n",
       "\n",
       "    .dataframe tbody tr th {\n",
       "        vertical-align: top;\n",
       "    }\n",
       "\n",
       "    .dataframe thead th {\n",
       "        text-align: right;\n",
       "    }\n",
       "</style>\n",
       "<table border=\"1\" class=\"dataframe\">\n",
       "  <thead>\n",
       "    <tr style=\"text-align: right;\">\n",
       "      <th></th>\n",
       "      <th>0</th>\n",
       "      <th>1</th>\n",
       "    </tr>\n",
       "  </thead>\n",
       "  <tbody>\n",
       "    <tr>\n",
       "      <th>0</th>\n",
       "      <td>AES</td>\n",
       "      <td>0610005C13RIK</td>\n",
       "    </tr>\n",
       "    <tr>\n",
       "      <th>1</th>\n",
       "      <td>AES</td>\n",
       "      <td>1110006G14RIK</td>\n",
       "    </tr>\n",
       "    <tr>\n",
       "      <th>2</th>\n",
       "      <td>AES</td>\n",
       "      <td>1700001J03RIK</td>\n",
       "    </tr>\n",
       "    <tr>\n",
       "      <th>3</th>\n",
       "      <td>AES</td>\n",
       "      <td>1700003I16RIK</td>\n",
       "    </tr>\n",
       "    <tr>\n",
       "      <th>4</th>\n",
       "      <td>AES</td>\n",
       "      <td>1700019M22RIK</td>\n",
       "    </tr>\n",
       "    <tr>\n",
       "      <th>...</th>\n",
       "      <td>...</td>\n",
       "      <td>...</td>\n",
       "    </tr>\n",
       "    <tr>\n",
       "      <th>104134</th>\n",
       "      <td>ZSCAN4C</td>\n",
       "      <td>ZNF827</td>\n",
       "    </tr>\n",
       "    <tr>\n",
       "      <th>104135</th>\n",
       "      <td>ZSCAN4C</td>\n",
       "      <td>ZNFX1</td>\n",
       "    </tr>\n",
       "    <tr>\n",
       "      <th>104136</th>\n",
       "      <td>ZSCAN4C</td>\n",
       "      <td>ZNHIT6</td>\n",
       "    </tr>\n",
       "    <tr>\n",
       "      <th>104137</th>\n",
       "      <td>ZSCAN4C</td>\n",
       "      <td>ZP3</td>\n",
       "    </tr>\n",
       "    <tr>\n",
       "      <th>104138</th>\n",
       "      <td>ZSCAN4C</td>\n",
       "      <td>ZSCAN5B</td>\n",
       "    </tr>\n",
       "  </tbody>\n",
       "</table>\n",
       "<p>104139 rows × 2 columns</p>\n",
       "</div>"
      ],
      "text/plain": [
       "              0              1\n",
       "0           AES  0610005C13RIK\n",
       "1           AES  1110006G14RIK\n",
       "2           AES  1700001J03RIK\n",
       "3           AES  1700003I16RIK\n",
       "4           AES  1700019M22RIK\n",
       "...         ...            ...\n",
       "104134  ZSCAN4C         ZNF827\n",
       "104135  ZSCAN4C          ZNFX1\n",
       "104136  ZSCAN4C         ZNHIT6\n",
       "104137  ZSCAN4C            ZP3\n",
       "104138  ZSCAN4C        ZSCAN5B\n",
       "\n",
       "[104139 rows x 2 columns]"
      ]
     },
     "execution_count": 8,
     "metadata": {},
     "output_type": "execute_result"
    }
   ],
   "source": [
    "a_logof = pd.read_csv('../../GroundTruth/remisdata/gold_standards input/hESC/hESC_logof.txt', sep='\\t', header=None)\n",
    "a_logof"
   ]
  },
  {
   "cell_type": "code",
   "execution_count": 45,
   "metadata": {},
   "outputs": [
    {
     "data": {
      "text/plain": [
       "(55, 16325, 104139)"
      ]
     },
     "execution_count": 45,
     "metadata": {},
     "output_type": "execute_result"
    }
   ],
   "source": [
    "len(set(a_logof[0])), len(set(a_logof[1])), len(a_logof)"
   ]
  },
  {
   "cell_type": "code",
   "execution_count": 9,
   "metadata": {},
   "outputs": [
    {
     "data": {
      "text/html": [
       "<div>\n",
       "<style scoped>\n",
       "    .dataframe tbody tr th:only-of-type {\n",
       "        vertical-align: middle;\n",
       "    }\n",
       "\n",
       "    .dataframe tbody tr th {\n",
       "        vertical-align: top;\n",
       "    }\n",
       "\n",
       "    .dataframe thead th {\n",
       "        text-align: right;\n",
       "    }\n",
       "</style>\n",
       "<table border=\"1\" class=\"dataframe\">\n",
       "  <thead>\n",
       "    <tr style=\"text-align: right;\">\n",
       "      <th></th>\n",
       "      <th>0</th>\n",
       "      <th>1</th>\n",
       "    </tr>\n",
       "  </thead>\n",
       "  <tbody>\n",
       "    <tr>\n",
       "      <th>0</th>\n",
       "      <td>AES</td>\n",
       "      <td>1110046J04RIK</td>\n",
       "    </tr>\n",
       "    <tr>\n",
       "      <th>1</th>\n",
       "      <td>AES</td>\n",
       "      <td>2310065F04RIK</td>\n",
       "    </tr>\n",
       "    <tr>\n",
       "      <th>2</th>\n",
       "      <td>AES</td>\n",
       "      <td>2410004A20RIK</td>\n",
       "    </tr>\n",
       "    <tr>\n",
       "      <th>3</th>\n",
       "      <td>AES</td>\n",
       "      <td>2700033N17RIK</td>\n",
       "    </tr>\n",
       "    <tr>\n",
       "      <th>4</th>\n",
       "      <td>AES</td>\n",
       "      <td>6430503K07RIK</td>\n",
       "    </tr>\n",
       "    <tr>\n",
       "      <th>...</th>\n",
       "      <td>...</td>\n",
       "      <td>...</td>\n",
       "    </tr>\n",
       "    <tr>\n",
       "      <th>155052</th>\n",
       "      <td>ZSCAN4C</td>\n",
       "      <td>ZNFX1</td>\n",
       "    </tr>\n",
       "    <tr>\n",
       "      <th>155053</th>\n",
       "      <td>ZSCAN4C</td>\n",
       "      <td>ZNHIT6</td>\n",
       "    </tr>\n",
       "    <tr>\n",
       "      <th>155054</th>\n",
       "      <td>ZSCAN4C</td>\n",
       "      <td>ZP3</td>\n",
       "    </tr>\n",
       "    <tr>\n",
       "      <th>155055</th>\n",
       "      <td>ZSCAN4C</td>\n",
       "      <td>ZP3R</td>\n",
       "    </tr>\n",
       "    <tr>\n",
       "      <th>155056</th>\n",
       "      <td>ZSCAN4C</td>\n",
       "      <td>ZSCAN5B</td>\n",
       "    </tr>\n",
       "  </tbody>\n",
       "</table>\n",
       "<p>155057 rows × 2 columns</p>\n",
       "</div>"
      ],
      "text/plain": [
       "              0              1\n",
       "0           AES  1110046J04RIK\n",
       "1           AES  2310065F04RIK\n",
       "2           AES  2410004A20RIK\n",
       "3           AES  2700033N17RIK\n",
       "4           AES  6430503K07RIK\n",
       "...         ...            ...\n",
       "155052  ZSCAN4C          ZNFX1\n",
       "155053  ZSCAN4C         ZNHIT6\n",
       "155054  ZSCAN4C            ZP3\n",
       "155055  ZSCAN4C           ZP3R\n",
       "155056  ZSCAN4C        ZSCAN5B\n",
       "\n",
       "[155057 rows x 2 columns]"
      ]
     },
     "execution_count": 9,
     "metadata": {},
     "output_type": "execute_result"
    }
   ],
   "source": [
    "b_nish = pd.read_csv('../../GroundTruth/remisdata/gold_standards input/hESC/hESC_nishiyama.txt', sep='\\t', header=None)\n",
    "b_nish"
   ]
  },
  {
   "cell_type": "code",
   "execution_count": 47,
   "metadata": {},
   "outputs": [
    {
     "data": {
      "text/plain": [
       "(173, 17848, 155057)"
      ]
     },
     "execution_count": 47,
     "metadata": {},
     "output_type": "execute_result"
    }
   ],
   "source": [
    "len(set(b_nish[0])), len(set(b_nish[1])), len(b_nish)"
   ]
  },
  {
   "cell_type": "code",
   "execution_count": 48,
   "metadata": {},
   "outputs": [
    {
     "data": {
      "text/plain": [
       "(12, 11779)"
      ]
     },
     "execution_count": 48,
     "metadata": {},
     "output_type": "execute_result"
    }
   ],
   "source": [
    "len(set(b_nish[0]) & set(a[0])), len(set(b_nish[1]) & set(a[1]))"
   ]
  },
  {
   "cell_type": "code",
   "execution_count": 49,
   "metadata": {},
   "outputs": [],
   "source": [
    "a_logof['link']=a_logof[0]+'_'+a_logof[1]\n",
    "b_nish['link']=b_nish[0]+'_'+b_nish[1]"
   ]
  },
  {
   "cell_type": "code",
   "execution_count": 50,
   "metadata": {},
   "outputs": [
    {
     "data": {
      "image/png": "[encoded data removed]",
      "text/plain": [
       "<Figure size 640x480 with 1 Axes>"
      ]
     },
     "metadata": {},
     "output_type": "display_data"
    }
   ],
   "source": [
    "set1 = set(a_logof[a_logof[0].isin(set(b_nish[0]) & set(a_logof[0]))].link)\n",
    "#set2 = set(a_logof[a_logof['link'].isin(b_nish['link'])].link)\n",
    "set2 = set(b_nish[b_nish[0].isin(set(b_nish[0]) & set(a_logof[0]))].link)\n",
    "venn2([set1, set2], ('set1', 'set2'))\n",
    "plt.show()\n"
   ]
  },
  {
   "attachments": {},
   "cell_type": "markdown",
   "metadata": {},
   "source": [
    "### literature"
   ]
  },
  {
   "cell_type": "code",
   "execution_count": 20,
   "metadata": {},
   "outputs": [
    {
     "data": {
      "text/html": [
       "<div>\n",
       "<style scoped>\n",
       "    .dataframe tbody tr th:only-of-type {\n",
       "        vertical-align: middle;\n",
       "    }\n",
       "\n",
       "    .dataframe tbody tr th {\n",
       "        vertical-align: top;\n",
       "    }\n",
       "\n",
       "    .dataframe thead th {\n",
       "        text-align: right;\n",
       "    }\n",
       "</style>\n",
       "<table border=\"1\" class=\"dataframe\">\n",
       "  <thead>\n",
       "    <tr style=\"text-align: right;\">\n",
       "      <th></th>\n",
       "      <th>0</th>\n",
       "      <th>1</th>\n",
       "    </tr>\n",
       "  </thead>\n",
       "  <tbody>\n",
       "    <tr>\n",
       "      <th>0</th>\n",
       "      <td>DPPA2</td>\n",
       "      <td>NANOG</td>\n",
       "    </tr>\n",
       "    <tr>\n",
       "      <th>1</th>\n",
       "      <td>ESRRB</td>\n",
       "      <td>ETV5</td>\n",
       "    </tr>\n",
       "    <tr>\n",
       "      <th>2</th>\n",
       "      <td>ESRRB</td>\n",
       "      <td>EZH2</td>\n",
       "    </tr>\n",
       "    <tr>\n",
       "      <th>3</th>\n",
       "      <td>ESRRB</td>\n",
       "      <td>GATA6</td>\n",
       "    </tr>\n",
       "    <tr>\n",
       "      <th>4</th>\n",
       "      <td>ESRRB</td>\n",
       "      <td>KLF4</td>\n",
       "    </tr>\n",
       "    <tr>\n",
       "      <th>...</th>\n",
       "      <td>...</td>\n",
       "      <td>...</td>\n",
       "    </tr>\n",
       "    <tr>\n",
       "      <th>325</th>\n",
       "      <td>ZNF281</td>\n",
       "      <td>POU5F1</td>\n",
       "    </tr>\n",
       "    <tr>\n",
       "      <th>326</th>\n",
       "      <td>ZNF281</td>\n",
       "      <td>PRMT1</td>\n",
       "    </tr>\n",
       "    <tr>\n",
       "      <th>327</th>\n",
       "      <td>ZNF281</td>\n",
       "      <td>SOX2</td>\n",
       "    </tr>\n",
       "    <tr>\n",
       "      <th>328</th>\n",
       "      <td>ZNF281</td>\n",
       "      <td>STAT3</td>\n",
       "    </tr>\n",
       "    <tr>\n",
       "      <th>329</th>\n",
       "      <td>ZNF281</td>\n",
       "      <td>TRIM28</td>\n",
       "    </tr>\n",
       "  </tbody>\n",
       "</table>\n",
       "<p>330 rows × 2 columns</p>\n",
       "</div>"
      ],
      "text/plain": [
       "          0       1\n",
       "0     DPPA2   NANOG\n",
       "1     ESRRB    ETV5\n",
       "2     ESRRB    EZH2\n",
       "3     ESRRB   GATA6\n",
       "4     ESRRB    KLF4\n",
       "..      ...     ...\n",
       "325  ZNF281  POU5F1\n",
       "326  ZNF281   PRMT1\n",
       "327  ZNF281    SOX2\n",
       "328  ZNF281   STAT3\n",
       "329  ZNF281  TRIM28\n",
       "\n",
       "[330 rows x 2 columns]"
      ]
     },
     "execution_count": 20,
     "metadata": {},
     "output_type": "execute_result"
    }
   ],
   "source": [
    "a_lit = pd.read_csv('../../GroundTruth/remisdata/gold_standards input/hESC/hESC_lit.txt', sep='\\t', header=None)\n",
    "a_lit"
   ]
  },
  {
   "cell_type": "code",
   "execution_count": 52,
   "metadata": {},
   "outputs": [
    {
     "data": {
      "text/plain": [
       "(39, 111, 330)"
      ]
     },
     "execution_count": 52,
     "metadata": {},
     "output_type": "execute_result"
    }
   ],
   "source": [
    "len(set(a_lit[0])), len(set(a_lit[1])), len(a_lit)"
   ]
  },
  {
   "cell_type": "code",
   "execution_count": 53,
   "metadata": {},
   "outputs": [],
   "source": [
    "a_lit['link']=a_lit[0]+'_'+a_lit[1]\n"
   ]
  },
  {
   "cell_type": "code",
   "execution_count": 54,
   "metadata": {},
   "outputs": [
    {
     "data": {
      "text/plain": [
       "(39, 111, 330)"
      ]
     },
     "execution_count": 54,
     "metadata": {},
     "output_type": "execute_result"
    }
   ],
   "source": [
    "len(set(a_lit[0])), len(set(a_lit[1])), len(a_lit)"
   ]
  },
  {
   "cell_type": "code",
   "execution_count": 55,
   "metadata": {},
   "outputs": [
    {
     "data": {
      "image/png": "[encoded data removed]",
      "text/plain": [
       "<Figure size 640x480 with 1 Axes>"
      ]
     },
     "metadata": {},
     "output_type": "display_data"
    }
   ],
   "source": [
    "set1 = set(a_lit[a_lit[0].isin(set(b_nish[0]) & set(a_lit[0]))].link)\n",
    "#set2 = set(a_lit[a_lit['link'].isin(b_nish['link'])].link)\n",
    "set2 = set(b_nish[b_nish[0].isin(set(b_nish[0]) & set(a_lit[0]))].link)\n",
    "venn2([set1, set2], ('set1', 'set2'))\n",
    "plt.show()\n"
   ]
  },
  {
   "cell_type": "markdown",
   "metadata": {},
   "source": [
    "## compare chips to perturb"
   ]
  },
  {
   "cell_type": "code",
   "execution_count": 56,
   "metadata": {},
   "outputs": [
    {
     "data": {
      "text/plain": [
       "(12, 11779)"
      ]
     },
     "execution_count": 56,
     "metadata": {},
     "output_type": "execute_result"
    }
   ],
   "source": [
    "len(set(b_nish[0]) & set(a_chip[0])), len(set(b_nish[1]) & set(a_chip[1]))"
   ]
  },
  {
   "cell_type": "code",
   "execution_count": 57,
   "metadata": {},
   "outputs": [
    {
     "data": {
      "image/png": "[encoded data removed]",
      "text/plain": [
       "<Figure size 640x480 with 1 Axes>"
      ]
     },
     "metadata": {},
     "output_type": "display_data"
    }
   ],
   "source": [
    "set1 = set(a_chip[a_chip[0].isin(set(b_nish[0]) & set(a_chip[0]))].link)\n",
    "#set2 = set(a_chip[a_chip['link'].isin(b_nish['link'])].link)\n",
    "set2 = set(b_nish[b_nish[0].isin(set(b_nish[0]) & set(a_chip[0]))].link)\n",
    "venn2([set1, set2], ('set1', 'set2'))\n",
    "plt.show()"
   ]
  },
  {
   "cell_type": "code",
   "execution_count": 59,
   "metadata": {},
   "outputs": [
    {
     "data": {
      "text/plain": [
       "(21, 102)"
      ]
     },
     "execution_count": 59,
     "metadata": {},
     "output_type": "execute_result"
    }
   ],
   "source": [
    "len(set(b_chip[0]) & set(a_lit[0])), len(set(b_chip[1]) & set(a_lit[1]))"
   ]
  },
  {
   "attachments": {},
   "cell_type": "markdown",
   "metadata": {},
   "source": [
    "## chip to lit\n"
   ]
  },
  {
   "cell_type": "code",
   "execution_count": 60,
   "metadata": {},
   "outputs": [
    {
     "data": {
      "image/png": "[encoded data removed]",
      "text/plain": [
       "<Figure size 640x480 with 1 Axes>"
      ]
     },
     "metadata": {},
     "output_type": "display_data"
    }
   ],
   "source": [
    "set1 = set(a_lit[a_lit[0].isin(set(b_chip[0]) & set(a_lit[0]))].link)\n",
    "#set2 = set(a_lit[a_lit['link'].isin(b_chip['link'])].link)\n",
    "set2 = set(b_chip[b_chip[0].isin(set(b_chip[0]) & set(a_lit[0]))].link)\n",
    "venn2([set1, set2], ('set1', 'set2'))\n",
    "plt.show()"
   ]
  },
  {
   "attachments": {},
   "cell_type": "markdown",
   "metadata": {},
   "source": [
    "## exploring meta overlap"
   ]
  },
  {
   "cell_type": "code",
   "execution_count": 63,
   "metadata": {},
   "outputs": [
    {
     "data": {
      "text/plain": [
       "{'MYC', 'NANOG', 'POU5F1', 'REST'}"
      ]
     },
     "execution_count": 63,
     "metadata": {},
     "output_type": "execute_result"
    }
   ],
   "source": [
    "set(b_chip[0]) & set(a_lit[0]) & set(a_chip[0])"
   ]
  },
  {
   "cell_type": "code",
   "execution_count": 69,
   "metadata": {},
   "outputs": [
    {
     "data": {
      "text/plain": [
       "(4, 11)"
      ]
     },
     "execution_count": 69,
     "metadata": {},
     "output_type": "execute_result"
    }
   ],
   "source": [
    "len(set(b_chip[0]) & set(a_lit[0]) & set(a_chip[0])), len(set(b_chip[1]) & set(a_lit[1]) & set(a_chip[0]))"
   ]
  },
  {
   "cell_type": "code",
   "execution_count": 65,
   "metadata": {},
   "outputs": [
    {
     "data": {
      "text/plain": [
       "{'CDX2',\n",
       " 'FGFR2',\n",
       " 'HDAC2',\n",
       " 'HESX1',\n",
       " 'HOXB1',\n",
       " 'NANOG',\n",
       " 'NEUROG1',\n",
       " 'OTX2',\n",
       " 'PHC1',\n",
       " 'POU5F1',\n",
       " 'REST',\n",
       " 'RIF1',\n",
       " 'SMARCAD1',\n",
       " 'SOX2',\n",
       " 'SOX6',\n",
       " 'STAT3'}"
      ]
     },
     "execution_count": 65,
     "metadata": {},
     "output_type": "execute_result"
    }
   ],
   "source": [
    "set(b_chip[b_chip[0]==\"POU5F1\"][1]) & set(a_lit[a_lit[0]==\"POU5F1\"][1]) & set(a_chip[a_chip[0]=='POU5F1'][1])"
   ]
  },
  {
   "cell_type": "code",
   "execution_count": 72,
   "metadata": {},
   "outputs": [
    {
     "data": {
      "text/plain": [
       "{'CDX2', 'FGFR2', 'HESX1', 'NANOG', 'OTX2', 'PHC1', 'POU5F1', 'REST', 'SOX2'}"
      ]
     },
     "execution_count": 72,
     "metadata": {},
     "output_type": "execute_result"
    }
   ],
   "source": [
    "set(b_chip[b_chip[0]==\"POU5F1\"][1]) & set(a_lit[a_lit[0]==\"POU5F1\"][1]) & set(a_chip[a_chip[0]=='POU5F1'][1]) & set(b_nish[b_nish[0]==\"POU5F1\"][1]) & set(a_logof[a_logof[0]==\"POU5F1\"][1])"
   ]
  },
  {
   "cell_type": "code",
   "execution_count": 70,
   "metadata": {},
   "outputs": [
    {
     "data": {
      "text/plain": [
       "8428"
      ]
     },
     "execution_count": 70,
     "metadata": {},
     "output_type": "execute_result"
    }
   ],
   "source": [
    "len(set(b_chip[b_chip[0]==\"POU5F1\"][1]) | set(a_lit[a_lit[0]==\"POU5F1\"][1]) | set(a_chip[a_chip[0]=='POU5F1'][1]))"
   ]
  },
  {
   "cell_type": "code",
   "execution_count": null,
   "metadata": {},
   "outputs": [],
   "source": [
    "a_chip[a_chip[0]=='POU5F1'][1]"
   ]
  },
  {
   "attachments": {},
   "cell_type": "markdown",
   "metadata": {},
   "source": [
    "## looking at attention results"
   ]
  },
  {
   "cell_type": "code",
   "execution_count": null,
   "metadata": {},
   "outputs": [],
   "source": [
    "BNC2       3.241291\n",
    "COL6A3     1.376732\n",
    "HTR2C      1.508591\n",
    "MATN2      1.294301\n",
    "SEMA3E     1.216785\n",
    "SLC35F2    2.359197\n",
    "THSD4      2.107567\n",
    "TNFRSF8    1.196962\n",
    "XACT       1.101953\n",
    "---\n",
    "AC009403.2    1.256775\n",
    "AGTPBP1       1.369478\n",
    "ASRGL1        1.177755\n",
    "C1orf21       1.561926\n",
    "C6orf132      1.468876\n",
    "CDK14         1.522636\n",
    "CHST9         2.264276\n",
    "CORO2A        4.205293\n",
    "EFCAB2        1.221865\n",
    "EPHX2         5.611820\n",
    "ITGA2         1.759518\n",
    "PTPRG-AS1     1.035456"
   ]
  },
  {
   "cell_type": "code",
   "execution_count": 10,
   "metadata": {},
   "outputs": [],
   "source": [
    "ptg = [\"BNC2\",\n",
    "\"COL6A3\",\n",
    "\"HTR2C\",\n",
    "\"MATN2\",\n",
    "\"SEMA3E\",\n",
    "\"SLC35F2\", #not here\n",
    "\"THSD4\",\n",
    "\"TNFRSF8\",\n",
    "\"XACT\", #not here\n",
    "]"
   ]
  },
  {
   "cell_type": "code",
   "execution_count": 11,
   "metadata": {},
   "outputs": [
    {
     "data": {
      "text/html": [
       "<div>\n",
       "<style scoped>\n",
       "    .dataframe tbody tr th:only-of-type {\n",
       "        vertical-align: middle;\n",
       "    }\n",
       "\n",
       "    .dataframe tbody tr th {\n",
       "        vertical-align: top;\n",
       "    }\n",
       "\n",
       "    .dataframe thead th {\n",
       "        text-align: right;\n",
       "    }\n",
       "</style>\n",
       "<table border=\"1\" class=\"dataframe\">\n",
       "  <thead>\n",
       "    <tr style=\"text-align: right;\">\n",
       "      <th></th>\n",
       "      <th>0</th>\n",
       "      <th>1</th>\n",
       "    </tr>\n",
       "  </thead>\n",
       "  <tbody>\n",
       "    <tr>\n",
       "      <th>71775</th>\n",
       "      <td>POU5F1</td>\n",
       "      <td>TNFRSF8</td>\n",
       "    </tr>\n",
       "    <tr>\n",
       "      <th>98184</th>\n",
       "      <td>POU5F1</td>\n",
       "      <td>SLC35F2</td>\n",
       "    </tr>\n",
       "    <tr>\n",
       "      <th>106049</th>\n",
       "      <td>POU5F1</td>\n",
       "      <td>SEMA3E</td>\n",
       "    </tr>\n",
       "  </tbody>\n",
       "</table>\n",
       "</div>"
      ],
      "text/plain": [
       "             0        1\n",
       "71775   POU5F1  TNFRSF8\n",
       "98184   POU5F1  SLC35F2\n",
       "106049  POU5F1   SEMA3E"
      ]
     },
     "execution_count": 11,
     "metadata": {},
     "output_type": "execute_result"
    }
   ],
   "source": [
    "b_chip[(b_chip[0]==\"POU5F1\") & b_chip[1].isin(ptg)]"
   ]
  },
  {
   "cell_type": "code",
   "execution_count": 12,
   "metadata": {},
   "outputs": [
    {
     "data": {
      "text/html": [
       "<div>\n",
       "<style scoped>\n",
       "    .dataframe tbody tr th:only-of-type {\n",
       "        vertical-align: middle;\n",
       "    }\n",
       "\n",
       "    .dataframe tbody tr th {\n",
       "        vertical-align: top;\n",
       "    }\n",
       "\n",
       "    .dataframe thead th {\n",
       "        text-align: right;\n",
       "    }\n",
       "</style>\n",
       "<table border=\"1\" class=\"dataframe\">\n",
       "  <thead>\n",
       "    <tr style=\"text-align: right;\">\n",
       "      <th></th>\n",
       "      <th>0</th>\n",
       "      <th>1</th>\n",
       "      <th>2</th>\n",
       "    </tr>\n",
       "  </thead>\n",
       "  <tbody>\n",
       "    <tr>\n",
       "      <th>425256</th>\n",
       "      <td>POU5F1</td>\n",
       "      <td>MATN2</td>\n",
       "      <td>23.710844</td>\n",
       "    </tr>\n",
       "  </tbody>\n",
       "</table>\n",
       "</div>"
      ],
      "text/plain": [
       "             0      1          2\n",
       "425256  POU5F1  MATN2  23.710844"
      ]
     },
     "execution_count": 12,
     "metadata": {},
     "output_type": "execute_result"
    }
   ],
   "source": [
    "a_chip[(a_chip[0]==\"POU5F1\") & a_chip[1].isin(ptg)]"
   ]
  },
  {
   "cell_type": "code",
   "execution_count": 73,
   "metadata": {},
   "outputs": [
    {
     "data": {
      "text/html": [
       "<div>\n",
       "<style scoped>\n",
       "    .dataframe tbody tr th:only-of-type {\n",
       "        vertical-align: middle;\n",
       "    }\n",
       "\n",
       "    .dataframe tbody tr th {\n",
       "        vertical-align: top;\n",
       "    }\n",
       "\n",
       "    .dataframe thead th {\n",
       "        text-align: right;\n",
       "    }\n",
       "</style>\n",
       "<table border=\"1\" class=\"dataframe\">\n",
       "  <thead>\n",
       "    <tr style=\"text-align: right;\">\n",
       "      <th></th>\n",
       "      <th>0</th>\n",
       "      <th>1</th>\n",
       "      <th>link</th>\n",
       "    </tr>\n",
       "  </thead>\n",
       "  <tbody>\n",
       "  </tbody>\n",
       "</table>\n",
       "</div>"
      ],
      "text/plain": [
       "Empty DataFrame\n",
       "Columns: [0, 1, link]\n",
       "Index: []"
      ]
     },
     "execution_count": 73,
     "metadata": {},
     "output_type": "execute_result"
    }
   ],
   "source": [
    "a_lit[(a_lit[0]==\"POU5F1\") & a_lit[1].isin(ptg)]"
   ]
  },
  {
   "cell_type": "code",
   "execution_count": 76,
   "metadata": {},
   "outputs": [
    {
     "data": {
      "text/plain": [
       "5442"
      ]
     },
     "execution_count": 76,
     "metadata": {},
     "output_type": "execute_result"
    }
   ],
   "source": [
    "(a_logof[0]==\"POU5F1\").sum()"
   ]
  },
  {
   "cell_type": "code",
   "execution_count": null,
   "metadata": {},
   "outputs": [],
   "source": [
    "b_nish[b_nish[0].isin(set(b_nish[0]) & set(a_logof[0]))]"
   ]
  },
  {
   "cell_type": "code",
   "execution_count": 74,
   "metadata": {},
   "outputs": [
    {
     "data": {
      "text/html": [
       "<div>\n",
       "<style scoped>\n",
       "    .dataframe tbody tr th:only-of-type {\n",
       "        vertical-align: middle;\n",
       "    }\n",
       "\n",
       "    .dataframe tbody tr th {\n",
       "        vertical-align: top;\n",
       "    }\n",
       "\n",
       "    .dataframe thead th {\n",
       "        text-align: right;\n",
       "    }\n",
       "</style>\n",
       "<table border=\"1\" class=\"dataframe\">\n",
       "  <thead>\n",
       "    <tr style=\"text-align: right;\">\n",
       "      <th></th>\n",
       "      <th>0</th>\n",
       "      <th>1</th>\n",
       "      <th>link</th>\n",
       "    </tr>\n",
       "  </thead>\n",
       "  <tbody>\n",
       "    <tr>\n",
       "      <th>56972</th>\n",
       "      <td>POU5F1</td>\n",
       "      <td>BNC2</td>\n",
       "      <td>POU5F1_BNC2</td>\n",
       "    </tr>\n",
       "    <tr>\n",
       "      <th>60779</th>\n",
       "      <td>POU5F1</td>\n",
       "      <td>SLC35F2</td>\n",
       "      <td>POU5F1_SLC35F2</td>\n",
       "    </tr>\n",
       "    <tr>\n",
       "      <th>61260</th>\n",
       "      <td>POU5F1</td>\n",
       "      <td>TNFRSF8</td>\n",
       "      <td>POU5F1_TNFRSF8</td>\n",
       "    </tr>\n",
       "  </tbody>\n",
       "</table>\n",
       "</div>"
      ],
      "text/plain": [
       "            0        1            link\n",
       "56972  POU5F1     BNC2     POU5F1_BNC2\n",
       "60779  POU5F1  SLC35F2  POU5F1_SLC35F2\n",
       "61260  POU5F1  TNFRSF8  POU5F1_TNFRSF8"
      ]
     },
     "execution_count": 74,
     "metadata": {},
     "output_type": "execute_result"
    }
   ],
   "source": [
    "a_logof[(a_logof[0]==\"POU5F1\") & a_logof[1].isin(ptg)]"
   ]
  },
  {
   "cell_type": "code",
   "execution_count": 77,
   "metadata": {},
   "outputs": [
    {
     "data": {
      "text/plain": [
       "2124"
      ]
     },
     "execution_count": 77,
     "metadata": {},
     "output_type": "execute_result"
    }
   ],
   "source": [
    "len(set(b_nish[(b_nish[0]==\"POU5F1\")][1]) & set(a_logof[(a_logof[0]==\"POU5F1\")][1]))"
   ]
  },
  {
   "cell_type": "code",
   "execution_count": 75,
   "metadata": {},
   "outputs": [
    {
     "data": {
      "text/html": [
       "<div>\n",
       "<style scoped>\n",
       "    .dataframe tbody tr th:only-of-type {\n",
       "        vertical-align: middle;\n",
       "    }\n",
       "\n",
       "    .dataframe tbody tr th {\n",
       "        vertical-align: top;\n",
       "    }\n",
       "\n",
       "    .dataframe thead th {\n",
       "        text-align: right;\n",
       "    }\n",
       "</style>\n",
       "<table border=\"1\" class=\"dataframe\">\n",
       "  <thead>\n",
       "    <tr style=\"text-align: right;\">\n",
       "      <th></th>\n",
       "      <th>0</th>\n",
       "      <th>1</th>\n",
       "      <th>link</th>\n",
       "    </tr>\n",
       "  </thead>\n",
       "  <tbody>\n",
       "    <tr>\n",
       "      <th>113255</th>\n",
       "      <td>POU5F1</td>\n",
       "      <td>BNC2</td>\n",
       "      <td>POU5F1_BNC2</td>\n",
       "    </tr>\n",
       "    <tr>\n",
       "      <th>115457</th>\n",
       "      <td>POU5F1</td>\n",
       "      <td>SLC35F2</td>\n",
       "      <td>POU5F1_SLC35F2</td>\n",
       "    </tr>\n",
       "  </tbody>\n",
       "</table>\n",
       "</div>"
      ],
      "text/plain": [
       "             0        1            link\n",
       "113255  POU5F1     BNC2     POU5F1_BNC2\n",
       "115457  POU5F1  SLC35F2  POU5F1_SLC35F2"
      ]
     },
     "execution_count": 75,
     "metadata": {},
     "output_type": "execute_result"
    }
   ],
   "source": [
    "b_nish[(b_nish[0]==\"POU5F1\") & b_nish[1].isin(ptg)]"
   ]
  },
  {
   "cell_type": "markdown",
   "metadata": {},
   "source": [
    "## all completely random"
   ]
  },
  {
   "cell_type": "code",
   "execution_count": 16,
   "metadata": {},
   "outputs": [
    {
     "data": {
      "image/png": "[encoded data removed]",
      "text/plain": [
       "<Figure size 640x480 with 1 Axes>"
      ]
     },
     "metadata": {},
     "output_type": "display_data"
    }
   ],
   "source": [
    "set1 = set(b_chip[(b_chip[0]==\"POU5F1\")][1])\n",
    "set3 = fromscGPT\n",
    "set2 = set(a_logof[(a_logof[0]==\"POU5F1\")][1])\n",
    "venn3([set1, set2, set3], ('chip', 'perturb', \"scGPT\"))\n",
    "plt.show()"
   ]
  },
  {
   "cell_type": "code",
   "execution_count": 24,
   "metadata": {},
   "outputs": [
    {
     "data": {
      "text/html": [
       "<div>\n",
       "<style scoped>\n",
       "    .dataframe tbody tr th:only-of-type {\n",
       "        vertical-align: middle;\n",
       "    }\n",
       "\n",
       "    .dataframe tbody tr th {\n",
       "        vertical-align: top;\n",
       "    }\n",
       "\n",
       "    .dataframe thead th {\n",
       "        text-align: right;\n",
       "    }\n",
       "</style>\n",
       "<table border=\"1\" class=\"dataframe\">\n",
       "  <thead>\n",
       "    <tr style=\"text-align: right;\">\n",
       "      <th></th>\n",
       "      <th>0</th>\n",
       "      <th>1</th>\n",
       "    </tr>\n",
       "  </thead>\n",
       "  <tbody>\n",
       "    <tr>\n",
       "      <th>145</th>\n",
       "      <td>POU5F1</td>\n",
       "      <td>ASH2L</td>\n",
       "    </tr>\n",
       "    <tr>\n",
       "      <th>146</th>\n",
       "      <td>POU5F1</td>\n",
       "      <td>ATBF1</td>\n",
       "    </tr>\n",
       "    <tr>\n",
       "      <th>147</th>\n",
       "      <td>POU5F1</td>\n",
       "      <td>BAF155</td>\n",
       "    </tr>\n",
       "    <tr>\n",
       "      <th>148</th>\n",
       "      <td>POU5F1</td>\n",
       "      <td>CDX2</td>\n",
       "    </tr>\n",
       "    <tr>\n",
       "      <th>149</th>\n",
       "      <td>POU5F1</td>\n",
       "      <td>C-MYC</td>\n",
       "    </tr>\n",
       "    <tr>\n",
       "      <th>...</th>\n",
       "      <td>...</td>\n",
       "      <td>...</td>\n",
       "    </tr>\n",
       "    <tr>\n",
       "      <th>208</th>\n",
       "      <td>POU5F1</td>\n",
       "      <td>WDR5</td>\n",
       "    </tr>\n",
       "    <tr>\n",
       "      <th>209</th>\n",
       "      <td>POU5F1</td>\n",
       "      <td>ZFP42</td>\n",
       "    </tr>\n",
       "    <tr>\n",
       "      <th>210</th>\n",
       "      <td>POU5F1</td>\n",
       "      <td>ZIC2</td>\n",
       "    </tr>\n",
       "    <tr>\n",
       "      <th>211</th>\n",
       "      <td>POU5F1</td>\n",
       "      <td>ZIC3</td>\n",
       "    </tr>\n",
       "    <tr>\n",
       "      <th>212</th>\n",
       "      <td>POU5F1</td>\n",
       "      <td>ZNF219</td>\n",
       "    </tr>\n",
       "  </tbody>\n",
       "</table>\n",
       "<p>68 rows × 2 columns</p>\n",
       "</div>"
      ],
      "text/plain": [
       "          0       1\n",
       "145  POU5F1   ASH2L\n",
       "146  POU5F1   ATBF1\n",
       "147  POU5F1  BAF155\n",
       "148  POU5F1    CDX2\n",
       "149  POU5F1   C-MYC\n",
       "..      ...     ...\n",
       "208  POU5F1    WDR5\n",
       "209  POU5F1   ZFP42\n",
       "210  POU5F1    ZIC2\n",
       "211  POU5F1    ZIC3\n",
       "212  POU5F1  ZNF219\n",
       "\n",
       "[68 rows x 2 columns]"
      ]
     },
     "execution_count": 24,
     "metadata": {},
     "output_type": "execute_result"
    }
   ],
   "source": [
    "a_lit[(a_lit[0]==\"POU5F1\")]"
   ]
  },
  {
   "cell_type": "code",
   "execution_count": 27,
   "metadata": {},
   "outputs": [
    {
     "data": {
      "image/png": "[encoded data removed]",
      "text/plain": [
       "<Figure size 640x480 with 1 Axes>"
      ]
     },
     "metadata": {},
     "output_type": "display_data"
    }
   ],
   "source": [
    "set1 = set(a_lit[(a_lit[0]==\"POU5F1\")][1])\n",
    "set2 = fromscGPT\n",
    "venn2([set1, set2], ('lit', \"scGPT\"))\n",
    "plt.show()"
   ]
  },
  {
   "cell_type": "code",
   "execution_count": 18,
   "metadata": {},
   "outputs": [
    {
     "data": {
      "image/png": "[encoded data removed]",
      "text/plain": [
       "<Figure size 640x480 with 1 Axes>"
      ]
     },
     "metadata": {},
     "output_type": "display_data"
    }
   ],
   "source": [
    "set1 = set(a_chip[(a_chip[0]==\"POU5F1\")][1]) & set(b_chip[(b_chip[0]==\"POU5F1\")][1])\n",
    "set3 = fromscGPT\n",
    "set2 = set(b_nish[(b_nish[0]==\"POU5F1\")][1]) & set(a_logof[(a_logof[0]==\"POU5F1\")][1])\n",
    "venn3([set1, set2, set3], ('chip', 'perturb', \"scGPT\"))\n",
    "plt.show()"
   ]
  },
  {
   "cell_type": "code",
   "execution_count": 15,
   "metadata": {},
   "outputs": [],
   "source": [
    "fromscGPT = {'ABHD16A',\n",
    " 'ACTN4',\n",
    " 'ACTR10',\n",
    " 'ACTR1A',\n",
    " 'ACTR3',\n",
    " 'ACTR6',\n",
    " 'AGPAT1',\n",
    " 'AGTRAP',\n",
    " 'AKIRIN1',\n",
    " 'AKIRIN2',\n",
    " 'ANKRD13D',\n",
    " 'AP3S1',\n",
    " 'APEH',\n",
    " 'APH1A',\n",
    " 'ARIH2',\n",
    " 'ARL2BP',\n",
    " 'ARL5A',\n",
    " 'ARL8A',\n",
    " 'ARMCX1',\n",
    " 'ARMCX3',\n",
    " 'ASF1A',\n",
    " 'ATP1A1',\n",
    " 'ATP6V0D1',\n",
    " 'ATP6V1B2',\n",
    " 'AZI2',\n",
    " 'B4GALT3',\n",
    " 'BCAS2',\n",
    " 'BIRC2',\n",
    " 'BLOC1S6',\n",
    " 'BNIP3L',\n",
    " 'C12orf76',\n",
    " 'C5orf15',\n",
    " 'CALCOCO2',\n",
    " 'CAPZA1',\n",
    " 'CAPZA2',\n",
    " 'CAST',\n",
    " 'CAT',\n",
    " 'CCAR2',\n",
    " 'CCDC28A',\n",
    " 'CCNDBP1',\n",
    " 'CCNG1',\n",
    " 'CCS',\n",
    " 'CD44',\n",
    " 'CD46',\n",
    " 'CD74',\n",
    " 'CDK16',\n",
    " 'CDK2AP1',\n",
    " 'CDK5R2',\n",
    " 'CDK5RAP3',\n",
    " 'CDV3',\n",
    " 'CEBPG',\n",
    " 'CEBPZOS',\n",
    " 'CERS2',\n",
    " 'CHID1',\n",
    " 'CLDND1',\n",
    " 'CLK3',\n",
    " 'CNN2',\n",
    " 'CNOT7',\n",
    " 'COASY',\n",
    " 'COPS2',\n",
    " 'COPS7A',\n",
    " 'COTL1',\n",
    " 'CPNE1',\n",
    " 'CREB3',\n",
    " 'CREG1',\n",
    " 'CSNK1D',\n",
    " 'CSNK1E',\n",
    " 'CTDSP1',\n",
    " 'CTSF',\n",
    " 'CXCL16',\n",
    " 'CYTH2',\n",
    " 'DAP3',\n",
    " 'DDIT3',\n",
    " 'DDIT4',\n",
    " 'DDX54',\n",
    " 'DHPS',\n",
    " 'DMAP1',\n",
    " 'DNAJB6',\n",
    " 'DPF2',\n",
    " 'DRAM2',\n",
    " 'DUSP1',\n",
    " 'DUSP6',\n",
    " 'ECSIT',\n",
    " 'EIF2A',\n",
    " 'EIF2S3',\n",
    " 'FAM53C',\n",
    " 'FBXL12',\n",
    " 'FDFT1',\n",
    " 'FEZ2',\n",
    " 'FGFR1OP2',\n",
    " 'FLII',\n",
    " 'FLOT1',\n",
    " 'FRAT2',\n",
    " 'FUNDC2',\n",
    " 'FXR1',\n",
    " 'GADD45B',\n",
    " 'GLMP',\n",
    " 'GMPR2',\n",
    " 'GOPC',\n",
    " 'GOT1',\n",
    " 'GPR108',\n",
    " 'GRSF1',\n",
    " 'GTF2F2',\n",
    " 'HDAC3',\n",
    " 'HEXA',\n",
    " 'HK1',\n",
    " 'HM13',\n",
    " 'HMGN4',\n",
    " 'HNRNPL',\n",
    " 'HNRNPUL1',\n",
    " 'HOOK2',\n",
    " 'HOXB2',\n",
    " 'HSF1',\n",
    " 'HSPA4',\n",
    " 'IAH1',\n",
    " 'IFNGR1',\n",
    " 'IFRD1',\n",
    " 'IFT20',\n",
    " 'ILK',\n",
    " 'INTS11',\n",
    " 'IP6K2',\n",
    " 'IPO7',\n",
    " 'ISCA1',\n",
    " 'ISOC1',\n",
    " 'ISY1',\n",
    " 'JUP',\n",
    " 'KAT5',\n",
    " 'KDSR',\n",
    " 'KHDRBS1',\n",
    " 'KLHDC3',\n",
    " 'KPNB1',\n",
    " 'KXD1',\n",
    " 'LAMTOR3',\n",
    " 'LETMD1',\n",
    " 'LITAF',\n",
    " 'LUC7L2',\n",
    " 'MAP1LC3A',\n",
    " 'MAP1S',\n",
    " 'MAP2K3',\n",
    " 'MAP3K13',\n",
    " 'MAP7D1',\n",
    " 'MAPK1IP1L',\n",
    " 'MAX',\n",
    " 'MBD4',\n",
    " 'MCFD2',\n",
    " 'MDM4',\n",
    " 'MEAF6',\n",
    " 'METTL9',\n",
    " 'MGAT1',\n",
    " 'MKNK2',\n",
    " 'MOSPD3',\n",
    " 'MPDU1',\n",
    " 'MRPL28',\n",
    " 'MRPL44',\n",
    " 'MRPL48',\n",
    " 'MRPS22',\n",
    " 'MTCH1',\n",
    " 'MVB12A',\n",
    " 'MYH9',\n",
    " 'NAP1L4',\n",
    " 'NARF',\n",
    " 'NAT14',\n",
    " 'NAT9',\n",
    " 'NDUFS2',\n",
    " 'NECAP2',\n",
    " 'NECTIN2',\n",
    " 'NFKBIZ',\n",
    " 'NINJ1',\n",
    " 'NIPSNAP1',\n",
    " 'NMRAL1',\n",
    " 'NMT1',\n",
    " 'NR1H2',\n",
    " 'NTAN1',\n",
    " 'NUCB1',\n",
    " 'NUDT16L1',\n",
    " 'NUTM2A-AS1',\n",
    " 'OAZ2',\n",
    " 'OGFR',\n",
    " 'ORMDL1',\n",
    " 'OXA1L',\n",
    " 'PAFAH1B1',\n",
    " 'PAIP1',\n",
    " 'PCF11',\n",
    " 'PCNP',\n",
    " 'PERP',\n",
    " 'PGD',\n",
    " 'PHF1',\n",
    " 'PHF20',\n",
    " 'PHKG2',\n",
    " 'PIM3',\n",
    " 'PLPPR2',\n",
    " 'PMM1',\n",
    " 'PMPCB',\n",
    " 'PNKD',\n",
    " 'PNPLA2',\n",
    " 'PPP1CB',\n",
    " 'PPP1R2',\n",
    " 'PPP2CB',\n",
    " 'PPP4R2',\n",
    " 'PQBP1',\n",
    " 'PRCC',\n",
    " 'PRKAR1A',\n",
    " 'PRNP',\n",
    " 'PSMD11',\n",
    " 'PSMD9',\n",
    " 'PTP4A2',\n",
    " 'PTTG1IP',\n",
    " 'RAB32',\n",
    " 'RAB7A',\n",
    " 'RAB9A',\n",
    " 'RAP1A',\n",
    " 'RBM17',\n",
    " 'RBM5',\n",
    " 'RBM7',\n",
    " 'RBPJ',\n",
    " 'RGS10',\n",
    " 'RIC8A',\n",
    " 'RILP',\n",
    " 'RNF10',\n",
    " 'RNF114',\n",
    " 'RNF145',\n",
    " 'RNF167',\n",
    " 'RNH1',\n",
    " 'ROGDI',\n",
    " 'RTF1',\n",
    " 'SAFB',\n",
    " 'SAR1B',\n",
    " 'SBDS',\n",
    " 'SCAMP3',\n",
    " 'SCYL1',\n",
    " 'SDCBP',\n",
    " 'SEPHS2',\n",
    " 'SERPINB6',\n",
    " 'SF1',\n",
    " 'SF3A1',\n",
    " 'SFT2D1',\n",
    " 'SGTA',\n",
    " 'SLC2A1',\n",
    " 'SMARCA5',\n",
    " 'SNAP23',\n",
    " 'SNHG12',\n",
    " 'SNHG3',\n",
    " 'SNHG9',\n",
    " 'SNRPA',\n",
    " 'SOD2',\n",
    " 'SON',\n",
    " 'SPINT2',\n",
    " 'SPNS1',\n",
    " 'SPSB3',\n",
    " 'SQSTM1',\n",
    " 'SRP19',\n",
    " 'SRP72',\n",
    " 'SRRD',\n",
    " 'SRRT',\n",
    " 'SRSF6',\n",
    " 'ST6GALNAC4',\n",
    " 'STARD7',\n",
    " 'STX10',\n",
    " 'STX12',\n",
    " 'SYPL1',\n",
    " 'SYS1',\n",
    " 'TACSTD2',\n",
    " 'TADA3',\n",
    " 'TAF11',\n",
    " 'TAF12',\n",
    " 'TAF1D',\n",
    " 'TAF7',\n",
    " 'TATDN1',\n",
    " 'THOC6',\n",
    " 'THUMPD3-AS1',\n",
    " 'TIAL1',\n",
    " 'TIMM44',\n",
    " 'TIPRL',\n",
    " 'TKT',\n",
    " 'TM2D1',\n",
    " 'TM2D3',\n",
    " 'TMED1',\n",
    " 'TMED5',\n",
    " 'TMEM165',\n",
    " 'TMEM205',\n",
    " 'TMEM41A',\n",
    " 'TMEM50B',\n",
    " 'TOM1',\n",
    " 'TOP1',\n",
    " 'TRA2A',\n",
    " 'TRABD',\n",
    " 'TRIM13',\n",
    " 'TRIM28',\n",
    " 'TRIM8',\n",
    " 'TRIP6',\n",
    " 'TSSC4',\n",
    " 'TWF2',\n",
    " 'UBAC1',\n",
    " 'UBAP2L',\n",
    " 'UBE2B',\n",
    " 'UBE2D1',\n",
    " 'UFM1',\n",
    " 'URM1',\n",
    " 'UROD',\n",
    " 'USE1',\n",
    " 'USP22',\n",
    " 'VMP1',\n",
    " 'VPS51',\n",
    " 'WBP2',\n",
    " 'WDR13',\n",
    " 'WDR45',\n",
    " 'WDR82',\n",
    " 'WDR83',\n",
    " 'WIPI1',\n",
    " 'WTAP',\n",
    " 'YPEL5',\n",
    " 'ZFAND6',\n",
    " 'ZFP36L1',\n",
    " 'ZNF330'}"
   ]
  }
 ],
 "metadata": {
  "kernelspec": {
   "display_name": "new-env",
   "language": "python",
   "name": "python3"
  },
  "language_info": {
   "codemirror_mode": {
    "name": "ipython",
    "version": 3
   },
   "file_extension": ".py",
   "mimetype": "text/x-python",
   "name": "python",
   "nbconvert_exporter": "python",
   "pygments_lexer": "ipython3",
   "version": "3.10.0"
  },
  "orig_nbformat": 4
 },
 "nbformat": 4,
 "nbformat_minor": 2
}
